{
 "cells": [
  {
   "cell_type": "markdown",
   "id": "490130a6",
   "metadata": {},
   "source": [
    "## Modifying a Simple MODFLOW 6 Model with Flopy\n"
   ]
  },
  {
   "cell_type": "markdown",
   "id": "8b2310c2",
   "metadata": {},
   "source": [
    "### Setup the Notebook Environment"
   ]
  },
  {
   "cell_type": "code",
   "execution_count": 1,
   "id": "095ecb90",
   "metadata": {
    "execution": {
     "iopub.execute_input": "2023-09-30T20:44:15.472064Z",
     "iopub.status.busy": "2023-09-30T20:44:15.471536Z",
     "iopub.status.idle": "2023-09-30T20:44:15.485021Z",
     "shell.execute_reply": "2023-09-30T20:44:15.484368Z"
    }
   },
   "outputs": [],
   "source": [
    "import os"
   ]
  },
  {
   "cell_type": "code",
   "execution_count": 2,
   "id": "288a2453",
   "metadata": {
    "execution": {
     "iopub.execute_input": "2023-09-30T20:44:15.490185Z",
     "iopub.status.busy": "2023-09-30T20:44:15.488591Z",
     "iopub.status.idle": "2023-09-30T20:44:16.162577Z",
     "shell.execute_reply": "2023-09-30T20:44:16.161874Z"
    }
   },
   "outputs": [
    {
     "name": "stdout",
     "output_type": "stream",
     "text": [
      "3.10.13 | packaged by Anaconda, Inc. | (main, Sep 11 2023, 13:24:38) [MSC v.1916 64 bit (AMD64)]\n",
      "numpy version: 1.24.3\n",
      "matplotlib version: 3.7.2\n",
      "flopy version: 3.4.1\n"
     ]
    }
   ],
   "source": [
    "import sys\n",
    "from tempfile import TemporaryDirectory\n",
    "\n",
    "import matplotlib as mpl\n",
    "import matplotlib.pyplot as plt\n",
    "import numpy as np\n",
    "\n",
    "import flopy\n",
    "\n",
    "print(sys.version)\n",
    "print(\"numpy version: {}\".format(np.__version__))\n",
    "print(\"matplotlib version: {}\".format(mpl.__version__))\n",
    "print(\"flopy version: {}\".format(flopy.__version__))"
   ]
  },
  {
   "cell_type": "code",
   "execution_count": 3,
   "id": "45007821",
   "metadata": {},
   "outputs": [
    {
     "name": "stdout",
     "output_type": "stream",
     "text": [
      "[WinError 183] Cannot create a file when that file already exists: '.\\\\mf6Well'\n"
     ]
    }
   ],
   "source": [
    "# Alternatively - create a folder to save the output files\n",
    "workspace = os.path.join(\".\", \"mf6Well\")\n",
    "try: \n",
    "    os.mkdir(workspace) \n",
    "    print(\"Directory '%s' created\" %workspace) \n",
    "except OSError as error: \n",
    "    print(error)    "
   ]
  },
  {
   "cell_type": "markdown",
   "id": "75aea65f",
   "metadata": {},
   "source": [
    "### Loading Flopy Model Objects\n",
    "\n"
   ]
  },
  {
   "cell_type": "code",
   "execution_count": 4,
   "id": "f6be077e",
   "metadata": {},
   "outputs": [
    {
     "name": "stdout",
     "output_type": "stream",
     "text": [
      "loading simulation...\n",
      "  loading simulation name file...\n",
      "  loading tdis package...\n",
      "  loading model gwf6...\n",
      "    loading package dis...\n",
      "    loading package ic...\n",
      "    loading package npf...\n",
      "    loading package sto...\n",
      "    loading package wel...\n",
      "    loading package chd...\n",
      "    loading package oc...\n",
      "  loading solution package gwf_well_00...\n"
     ]
    }
   ],
   "source": [
    "model_name = \"well_00\"\n",
    "sim = flopy.mf6.MFSimulation.load(sim_name=model_name,sim_ws=workspace)\n",
    "gwf = sim.get_model()"
   ]
  },
  {
   "cell_type": "code",
   "execution_count": 5,
   "id": "2933193f",
   "metadata": {},
   "outputs": [
    {
     "data": {
      "text/plain": [
       "'gwf_well_00'"
      ]
     },
     "execution_count": 5,
     "metadata": {},
     "output_type": "execute_result"
    }
   ],
   "source": [
    "gwf.name\n",
    "\n"
   ]
  },
  {
   "cell_type": "code",
   "execution_count": 6,
   "id": "35b622f6",
   "metadata": {},
   "outputs": [
    {
     "data": {
      "text/plain": [
       "<bound method ModelInterface.get_package_list of name = gwf_well_00\n",
       "model_type = gwf6\n",
       "version = mf6\n",
       "model_relative_path = \n",
       "\n",
       "###################\n",
       "Package dis\n",
       "###################\n",
       "\n",
       "package_name = dis\n",
       "filename = gwf_well_00.dis\n",
       "package_type = dis\n",
       "model_or_simulation_package = model\n",
       "model_name = gwf_well_00\n",
       "\n",
       "\n",
       "###################\n",
       "Package ic\n",
       "###################\n",
       "\n",
       "package_name = ic\n",
       "filename = gwf_well_00.ic\n",
       "package_type = ic\n",
       "model_or_simulation_package = model\n",
       "model_name = gwf_well_00\n",
       "\n",
       "\n",
       "###################\n",
       "Package npf\n",
       "###################\n",
       "\n",
       "package_name = npf\n",
       "filename = gwf_well_00.npf\n",
       "package_type = npf\n",
       "model_or_simulation_package = model\n",
       "model_name = gwf_well_00\n",
       "\n",
       "\n",
       "###################\n",
       "Package sto\n",
       "###################\n",
       "\n",
       "package_name = sto\n",
       "filename = gwf_well_00.sto\n",
       "package_type = sto\n",
       "model_or_simulation_package = model\n",
       "model_name = gwf_well_00\n",
       "\n",
       "\n",
       "###################\n",
       "Package wel\n",
       "###################\n",
       "\n",
       "package_name = wel\n",
       "filename = gwf_well_00.wel\n",
       "package_type = wel\n",
       "model_or_simulation_package = model\n",
       "model_name = gwf_well_00\n",
       "\n",
       "\n",
       "###################\n",
       "Package chd\n",
       "###################\n",
       "\n",
       "package_name = chd\n",
       "filename = gwf_well_00.chd\n",
       "package_type = chd\n",
       "model_or_simulation_package = model\n",
       "model_name = gwf_well_00\n",
       "\n",
       "\n",
       "###################\n",
       "Package oc\n",
       "###################\n",
       "\n",
       "package_name = oc\n",
       "filename = gwf_well_00.oc\n",
       "package_type = oc\n",
       "model_or_simulation_package = model\n",
       "model_name = gwf_well_00\n",
       "\n",
       "\n",
       ">"
      ]
     },
     "execution_count": 6,
     "metadata": {},
     "output_type": "execute_result"
    }
   ],
   "source": [
    "gwf.get_package_list"
   ]
  },
  {
   "cell_type": "code",
   "execution_count": 7,
   "id": "628a7047",
   "metadata": {},
   "outputs": [],
   "source": [
    "wel = gwf.get_package('WEL')"
   ]
  },
  {
   "cell_type": "code",
   "execution_count": 8,
   "id": "e71c16b7",
   "metadata": {},
   "outputs": [
    {
     "data": {
      "text/plain": [
       "{internal}\n",
       "(rec.array([((0, 7, 7), -600., 'well_00')],\n",
       "          dtype=[('cellid', 'O'), ('q', '<f8'), ('boundname', 'O')]))"
      ]
     },
     "execution_count": 8,
     "metadata": {},
     "output_type": "execute_result"
    }
   ],
   "source": [
    "wel.stress_period_data"
   ]
  },
  {
   "cell_type": "code",
   "execution_count": 9,
   "id": "395ece04",
   "metadata": {
    "execution": {
     "iopub.execute_input": "2023-09-30T20:44:16.866801Z",
     "iopub.status.busy": "2023-09-30T20:44:16.865434Z",
     "iopub.status.idle": "2023-09-30T20:44:16.877962Z",
     "shell.execute_reply": "2023-09-30T20:44:16.877310Z"
    }
   },
   "outputs": [],
   "source": [
    "# Modify the pumping\n",
    "new_stress_period_data = {}\n",
    "new_stress_period_data[0] = [0, 7, 7,-700.,'well_00']\n",
    "\n",
    "wel.stress_period_data = new_stress_period_data"
   ]
  },
  {
   "cell_type": "code",
   "execution_count": 10,
   "id": "f47a463f",
   "metadata": {},
   "outputs": [
    {
     "data": {
      "text/plain": [
       "{internal}\n",
       "(rec.array([((0, 7, 7), -700., 'well_00')],\n",
       "          dtype=[('cellid', 'O'), ('q', '<f8'), ('boundname', 'O')]))"
      ]
     },
     "execution_count": 10,
     "metadata": {},
     "output_type": "execute_result"
    }
   ],
   "source": [
    "wel.stress_period_data"
   ]
  },
  {
   "cell_type": "markdown",
   "id": "e187654f",
   "metadata": {},
   "source": [
    "### Create the MODFLOW 6 Input Files and Run the Model\n",
    "\n",
    "Once all the flopy objects are created, it is very easy to create all of the input files and run the model."
   ]
  },
  {
   "cell_type": "code",
   "execution_count": 11,
   "id": "c4ed24fa",
   "metadata": {
    "execution": {
     "iopub.execute_input": "2023-09-30T20:44:16.882848Z",
     "iopub.status.busy": "2023-09-30T20:44:16.881567Z",
     "iopub.status.idle": "2023-09-30T20:44:17.463064Z",
     "shell.execute_reply": "2023-09-30T20:44:17.462396Z"
    }
   },
   "outputs": [
    {
     "name": "stdout",
     "output_type": "stream",
     "text": [
      "writing simulation...\n",
      "  writing simulation name file...\n",
      "  writing simulation tdis package...\n",
      "  writing solution package gwf_well_00...\n",
      "  writing model gwf_well_00...\n",
      "    writing model name file...\n",
      "    writing package dis...\n",
      "    writing package ic...\n",
      "    writing package npf...\n",
      "    writing package sto...\n",
      "    writing package wel...\n",
      "    writing package chd...\n",
      "    writing package oc...\n"
     ]
    }
   ],
   "source": [
    "# Write the datasets\n",
    "sim.write_simulation()"
   ]
  },
  {
   "cell_type": "code",
   "execution_count": 12,
   "id": "ab2d4bb8",
   "metadata": {
    "execution": {
     "iopub.execute_input": "2023-09-30T20:44:17.468111Z",
     "iopub.status.busy": "2023-09-30T20:44:17.466784Z",
     "iopub.status.idle": "2023-09-30T20:44:17.473535Z",
     "shell.execute_reply": "2023-09-30T20:44:17.472894Z"
    }
   },
   "outputs": [
    {
     "name": "stdout",
     "output_type": "stream",
     "text": [
      "['gwf_well_00.cbb', 'gwf_well_00.chd', 'gwf_well_00.dis', 'gwf_well_00.dis.grb', 'gwf_well_00.hds', 'gwf_well_00.ic', 'gwf_well_00.lst', 'gwf_well_00.nam', 'gwf_well_00.npf', 'gwf_well_00.oc', 'gwf_well_00.sto', 'gwf_well_00.wel', 'mfsim.lst', 'mfsim.nam', 'well_00.ims', 'well_00.tdis']\n"
     ]
    }
   ],
   "source": [
    "# Print a list of the files that were created\n",
    "# in workspace\n",
    "print(os.listdir(workspace))"
   ]
  },
  {
   "cell_type": "markdown",
   "id": "4ce7326f",
   "metadata": {},
   "source": [
    "### Run the Simulation\n",
    "\n",
    "We can also run the simulation from the notebook, but only if the MODFLOW 6 executable is available.  The executable can be made available by putting the executable in a folder that is listed in the system path variable.  Another option is to just put a copy of the executable in the simulation folder, though this should generally be avoided.  A final option is to provide a full path to the executable when the simulation is constructed.  This would be done by specifying exe_name with the full path."
   ]
  },
  {
   "cell_type": "code",
   "execution_count": 13,
   "id": "fdd24dbd",
   "metadata": {
    "execution": {
     "iopub.execute_input": "2023-09-30T20:44:17.478432Z",
     "iopub.status.busy": "2023-09-30T20:44:17.477123Z",
     "iopub.status.idle": "2023-09-30T20:44:18.132349Z",
     "shell.execute_reply": "2023-09-30T20:44:18.130977Z"
    }
   },
   "outputs": [
    {
     "name": "stdout",
     "output_type": "stream",
     "text": [
      "                                   MODFLOW 6\n",
      "                U.S. GEOLOGICAL SURVEY MODULAR HYDROLOGIC MODEL\n",
      "                            VERSION 6.4.2 06/28/2023\n",
      "\n",
      "   MODFLOW 6 compiled Jun 28 2023 18:41:13 with Intel(R) Fortran Intel(R) 64\n",
      "   Compiler Classic for applications running on Intel(R) 64, Version 2021.7.0\n",
      "                             Build 20220726_000000\n",
      "\n",
      "This software has been approved for release by the U.S. Geological \n",
      "Survey (USGS). Although the software has been subjected to rigorous \n",
      "review, the USGS reserves the right to update the software as needed \n",
      "pursuant to further analysis and review. No warranty, expressed or \n",
      "implied, is made by the USGS or the U.S. Government as to the \n",
      "functionality of the software and related material nor shall the \n",
      "fact of release constitute any such warranty. Furthermore, the \n",
      "software is released on condition that neither the USGS nor the U.S. \n",
      "Government shall be held liable for any damages resulting from its \n",
      "authorized or unauthorized use. Also refer to the USGS Water \n",
      "Resources Software User Rights Notice for complete use, copyright, \n",
      "and distribution information.\n",
      "\n",
      " \n",
      " Run start date and time (yyyy/mm/dd hh:mm:ss): 2023/10/24  9:44:35\n",
      " \n",
      " Writing simulation list file: mfsim.lst\n",
      " Using Simulation name file: mfsim.nam\n",
      " \n",
      "    Solving:  Stress period:     1    Time step:     1\n",
      "    Solving:  Stress period:     1    Time step:     2\n",
      "    Solving:  Stress period:     1    Time step:     3\n",
      "    Solving:  Stress period:     1    Time step:     4\n",
      "    Solving:  Stress period:     1    Time step:     5\n",
      "    Solving:  Stress period:     1    Time step:     6\n",
      "    Solving:  Stress period:     1    Time step:     7\n",
      "    Solving:  Stress period:     1    Time step:     8\n",
      "    Solving:  Stress period:     1    Time step:     9\n",
      "    Solving:  Stress period:     1    Time step:    10\n",
      "    Solving:  Stress period:     1    Time step:    11\n",
      "    Solving:  Stress period:     1    Time step:    12\n",
      "    Solving:  Stress period:     1    Time step:    13\n",
      "    Solving:  Stress period:     1    Time step:    14\n",
      "    Solving:  Stress period:     1    Time step:    15\n",
      "    Solving:  Stress period:     1    Time step:    16\n",
      "    Solving:  Stress period:     1    Time step:    17\n",
      "    Solving:  Stress period:     1    Time step:    18\n",
      "    Solving:  Stress period:     1    Time step:    19\n",
      " \n",
      " Run end date and time (yyyy/mm/dd hh:mm:ss): 2023/10/24  9:44:35\n",
      " Elapsed run time:  0.099 Seconds\n",
      " \n",
      " Normal termination of simulation.\n"
     ]
    }
   ],
   "source": [
    "# Run the simulation\n",
    "success, buff = sim.run_simulation(silent=True, report=True)\n",
    "if success:\n",
    "    for line in buff:\n",
    "        print(line)\n",
    "else:\n",
    "    raise ValueError(\"Failed to run.\")"
   ]
  },
  {
   "cell_type": "markdown",
   "id": "7a35f40d",
   "metadata": {},
   "source": [
    "### Post-Process Head Results\n",
    "\n",
    "Post-processing MODFLOW 6 results is still a work in progress.  There aren't any Flopy plotting functions built in yet, like they are for other MODFLOW versions.  So we need to plot the results using general Flopy capabilities.  We can also use some of the Flopy ModelMap capabilities for MODFLOW 6, but in order to do so, we need to manually create a SpatialReference object, that is needed for the plotting.  Examples of both approaches are shown below.\n",
    "\n",
    "First, a link to the heads file is created with `HeadFile`. The link can then be accessed with the `get_data` function, by specifying, in this case, the step number and period number for which we want to retrieve data. A three-dimensional array is returned of size `nlay, nrow, ncol`. Matplotlib contouring functions are used to make contours of the layers or a cross-section."
   ]
  },
  {
   "cell_type": "code",
   "execution_count": 15,
   "id": "1d63f1b4",
   "metadata": {
    "execution": {
     "iopub.execute_input": "2023-09-30T20:44:18.137063Z",
     "iopub.status.busy": "2023-09-30T20:44:18.136565Z",
     "iopub.status.idle": "2023-09-30T20:44:18.512355Z",
     "shell.execute_reply": "2023-09-30T20:44:18.511767Z"
    }
   },
   "outputs": [
    {
     "data": {
      "text/plain": [
       "(19, 1, 15, 15)"
      ]
     },
     "execution_count": 15,
     "metadata": {},
     "output_type": "execute_result"
    }
   ],
   "source": [
    "# Read the binary head file and plot the results\n",
    "# We can use the existing Flopy HeadFile class because\n",
    "# the format of the headfile for MODFLOW 6 is the same\n",
    "# as for previous MODFLOW verions\n",
    "\n",
    "headfile = \"{}.hds\".format(gwf.name)\n",
    "budgetfile = \"{}.cbb\".format(gwf.name)\n",
    "\n",
    "fname = os.path.join(workspace, headfile)\n",
    "hds = flopy.utils.binaryfile.HeadFile(fname)\n",
    "h = hds.get_alldata()\n",
    "\n",
    "h.shape\n"
   ]
  },
  {
   "cell_type": "code",
   "execution_count": 18,
   "id": "147f1be0",
   "metadata": {
    "execution": {
     "iopub.execute_input": "2023-09-30T20:44:18.517559Z",
     "iopub.status.busy": "2023-09-30T20:44:18.516240Z",
     "iopub.status.idle": "2023-09-30T20:44:18.870689Z",
     "shell.execute_reply": "2023-09-30T20:44:18.869947Z"
    }
   },
   "outputs": [
    {
     "data": {
      "text/plain": [
       "(0.0, 15.0, 0.0, 15.0)"
      ]
     },
     "execution_count": 18,
     "metadata": {},
     "output_type": "execute_result"
    },
    {
     "data": {
      "image/png": "[encoded data removed]",
      "text/plain": [
       "<Figure size 640x480 with 1 Axes>"
      ]
     },
     "metadata": {},
     "output_type": "display_data"
    }
   ],
   "source": [
    "nrow, ncol = h.shape[2], h.shape[3]\n",
    "x = y = np.linspace(0, nrow, ncol)\n",
    "min_hd = round(np.min(h[-1, 0,:, :]),0)\n",
    "c = plt.contour(x, y, h[-1, 0,:, :], np.arange(min_hd, 0., 0.5))\n",
    "plt.clabel(c, fmt=\"%1.1f\")\n",
    "plt.axis(\"scaled\")"
   ]
  },
  {
   "cell_type": "code",
   "execution_count": 29,
   "id": "f3cfa701",
   "metadata": {},
   "outputs": [
    {
     "data": {
      "text/plain": [
       "package_name = dis\n",
       "filename = gwf_well_00.dis\n",
       "package_type = dis\n",
       "model_or_simulation_package = model\n",
       "model_name = gwf_well_00\n",
       "\n",
       "Block options\n",
       "--------------------\n",
       "length_units\n",
       "{internal}\n",
       "('meters')\n",
       "\n",
       "\n",
       "Block dimensions\n",
       "--------------------\n",
       "nlay\n",
       "{internal}\n",
       "(1)\n",
       "\n",
       "nrow\n",
       "{internal}\n",
       "(15)\n",
       "\n",
       "ncol\n",
       "{internal}\n",
       "(15)\n",
       "\n",
       "\n",
       "Block griddata\n",
       "--------------------\n",
       "delr\n",
       "{constant 1000.0}\n",
       "\n",
       "delc\n",
       "{constant 1000.0}\n",
       "\n",
       "top\n",
       "{constant 0.0}\n",
       "\n",
       "botm\n",
       "{constant -100.0}\n",
       "\n"
      ]
     },
     "execution_count": 29,
     "metadata": {},
     "output_type": "execute_result"
    }
   ],
   "source": [
    "dis = gwf.get_package('DIS')\n",
    "\n",
    "dis"
   ]
  },
  {
   "cell_type": "markdown",
   "id": "6e893dc0",
   "metadata": {},
   "source": [
    "### Post-Process Flows\n",
    "\n",
    "MODFLOW 6 writes a binary grid file, which contains information about the model grid.  MODFLOW 6 also writes a binary budget file, which contains flow information.  Both of these files can be read using Flopy capabilities.  The MfGrdFile class in Flopy can be used to read the binary grid file.  The CellBudgetFile class in Flopy can be used to read the binary budget file written by MODFLOW 6."
   ]
  },
  {
   "cell_type": "code",
   "execution_count": null,
   "id": "67b5dd91",
   "metadata": {
    "execution": {
     "iopub.execute_input": "2023-09-30T20:44:19.957462Z",
     "iopub.status.busy": "2023-09-30T20:44:19.956137Z",
     "iopub.status.idle": "2023-09-30T20:44:19.971144Z",
     "shell.execute_reply": "2023-09-30T20:44:19.970468Z"
    }
   },
   "outputs": [],
   "source": [
    "# read the binary grid file\n",
    "fname = os.path.join(workspace, \"{}.dis.grb\".format(gwf_name))\n",
    "bgf = flopy.mf6.utils.MfGrdFile(fname)\n",
    "\n",
    "# data read from the binary grid file is stored in a dictionary\n",
    "bgf._datadict"
   ]
  },
  {
   "cell_type": "code",
   "execution_count": null,
   "id": "dc68be09",
   "metadata": {
    "execution": {
     "iopub.execute_input": "2023-09-30T20:44:19.976272Z",
     "iopub.status.busy": "2023-09-30T20:44:19.974967Z",
     "iopub.status.idle": "2023-09-30T20:44:19.987682Z",
     "shell.execute_reply": "2023-09-30T20:44:19.987045Z"
    }
   },
   "outputs": [],
   "source": [
    "# read the cell budget file\n",
    "fname = os.path.join(workspace, \"{}.cbb\".format(gwf_name))\n",
    "cbb = flopy.utils.CellBudgetFile(fname, precision=\"double\")\n",
    "cbb.list_records()\n",
    "\n",
    "flowja = cbb.get_data(text=\"FLOW-JA-FACE\")[0][0, 0, :]\n",
    "chdflow = cbb.get_data(text=\"CHD\")[0]"
   ]
  },
  {
   "cell_type": "code",
   "execution_count": null,
   "id": "7be5b48b",
   "metadata": {
    "execution": {
     "iopub.execute_input": "2023-09-30T20:44:19.992349Z",
     "iopub.status.busy": "2023-09-30T20:44:19.991063Z",
     "iopub.status.idle": "2023-09-30T20:44:20.000031Z",
     "shell.execute_reply": "2023-09-30T20:44:19.999410Z"
    }
   },
   "outputs": [],
   "source": [
    "# By having the ia and ja arrays and the flow-ja-face we can look at\n",
    "# the flows for any cell and process them in the follow manner.\n",
    "k = 0\n",
    "i = 7\n",
    "j = 7\n",
    "celln = k * nrow * ncol + i * nrow + j\n",
    "ia, ja = bgf.ia, bgf.ja\n",
    "\n",
    "print(\"Printing flows for cell {}\".format(celln))\n",
    "for ipos in range(ia[celln] + 1, ia[celln + 1]):\n",
    "    cellm = ja[ipos]\n",
    "    print(\"Cell {} flow with cell {} is {}\".format(celln, cellm, flowja[ipos]))\n"
   ]
  }
 ],
 "metadata": {
  "jupytext": {
   "notebook_metadata_filter": "metadata"
  },
  "kernelspec": {
   "display_name": "Python 3 (ipykernel)",
   "language": "python",
   "name": "python3"
  },
  "language_info": {
   "codemirror_mode": {
    "name": "ipython",
    "version": 3
   },
   "file_extension": ".py",
   "mimetype": "text/x-python",
   "name": "python",
   "nbconvert_exporter": "python",
   "pygments_lexer": "ipython3",
   "version": "3.10.13"
  },
  "metadata": {
   "section": "mf6"
  }
 },
 "nbformat": 4,
 "nbformat_minor": 5
}
