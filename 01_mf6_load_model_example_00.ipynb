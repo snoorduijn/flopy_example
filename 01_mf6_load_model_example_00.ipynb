{
 "cells": [
  {
   "cell_type": "markdown",
   "id": "490130a6",
   "metadata": {},
   "source": [
    "## Load MODFLOW 6 Model with Flopy\n",
    "\n",
    "The purpose of this notebook is to demonstrate the how to load an exisiting model using Flopy "
   ]
  },
  {
   "cell_type": "markdown",
   "id": "8b2310c2",
   "metadata": {},
   "source": [
    "### Setup the Notebook Environment"
   ]
  },
  {
   "cell_type": "code",
   "execution_count": 6,
   "id": "095ecb90",
   "metadata": {
    "execution": {
     "iopub.execute_input": "2023-09-30T20:44:15.472064Z",
     "iopub.status.busy": "2023-09-30T20:44:15.471536Z",
     "iopub.status.idle": "2023-09-30T20:44:15.485021Z",
     "shell.execute_reply": "2023-09-30T20:44:15.484368Z"
    }
   },
   "outputs": [],
   "source": [
    "import os"
   ]
  },
  {
   "cell_type": "code",
   "execution_count": null,
   "id": "288a2453",
   "metadata": {
    "execution": {
     "iopub.execute_input": "2023-09-30T20:44:15.490185Z",
     "iopub.status.busy": "2023-09-30T20:44:15.488591Z",
     "iopub.status.idle": "2023-09-30T20:44:16.162577Z",
     "shell.execute_reply": "2023-09-30T20:44:16.161874Z"
    }
   },
   "outputs": [],
   "source": [
    "import sys\n",
    "from tempfile import TemporaryDirectory\n",
    "\n",
    "import matplotlib as mpl\n",
    "import matplotlib.pyplot as plt\n",
    "import numpy as np\n",
    "\n",
    "import flopy\n",
    "\n",
    "print(sys.version)\n",
    "print(\"numpy version: {}\".format(np.__version__))\n",
    "print(\"matplotlib version: {}\".format(mpl.__version__))\n",
    "print(\"flopy version: {}\".format(flopy.__version__))"
   ]
  },
  {
   "cell_type": "code",
   "execution_count": 8,
   "id": "34af737f",
   "metadata": {
    "execution": {
     "iopub.execute_input": "2023-09-30T20:44:16.167411Z",
     "iopub.status.busy": "2023-09-30T20:44:16.165966Z",
     "iopub.status.idle": "2023-09-30T20:44:16.171791Z",
     "shell.execute_reply": "2023-09-30T20:44:16.171154Z"
    }
   },
   "outputs": [],
   "source": [
    "# Model input files and output files will reside here.\n",
    "\n",
    "sim_workspace =  os.path.join(\".\", \"mf6Well\")"
   ]
  },
  {
   "cell_type": "markdown",
   "id": "75aea65f",
   "metadata": {},
   "source": [
    "### Load the Flopy Model Objects\n",
    "\n"
   ]
  },
  {
   "cell_type": "code",
   "execution_count": 9,
   "id": "62bc6e91",
   "metadata": {
    "execution": {
     "iopub.execute_input": "2023-09-30T20:44:16.176811Z",
     "iopub.status.busy": "2023-09-30T20:44:16.175492Z",
     "iopub.status.idle": "2023-09-30T20:44:16.181062Z",
     "shell.execute_reply": "2023-09-30T20:44:16.180417Z"
    }
   },
   "outputs": [],
   "source": [
    "model_name = \"well_00\"\n"
   ]
  },
  {
   "cell_type": "code",
   "execution_count": null,
   "id": "dccdd455",
   "metadata": {
    "execution": {
     "iopub.execute_input": "2023-09-30T20:44:16.185981Z",
     "iopub.status.busy": "2023-09-30T20:44:16.184668Z",
     "iopub.status.idle": "2023-09-30T20:44:16.317100Z",
     "shell.execute_reply": "2023-09-30T20:44:16.310241Z"
    }
   },
   "outputs": [],
   "source": [
    "# Load the Flopy simulation object\n",
    "sim = flopy.mf6.MFSimulation.load(\n",
    "    sim_ws=sim_workspace, exe_name=\"mf6\", verbosity_level=0)\n",
    "print(sim.gwf)"
   ]
  },
  {
   "cell_type": "markdown",
   "id": "3e0fa77f",
   "metadata": {},
   "source": [
    "### Post-Process head file and cell budget file outputs\n",
    "\n",
    "Post-processing MODFLOW 6 results is still a work in progress.  There aren't any Flopy plotting functions built in yet, like they are for other MODFLOW versions.  So we need to plot the results using general Flopy capabilities.  We can also use some of the Flopy ModelMap capabilities for MODFLOW 6, but in order to do so, we need to manually create a SpatialReference object, that is needed for the plotting.  Examples of both approaches are shown below.\n",
    "\n",
    "First, a link to the heads file is created with `HeadFile`. The link can then be accessed with the `get_data` function, by specifying, in this case, the step number and period number for which we want to retrieve data. A three-dimensional array is returned of size `nlay, nrow, ncol`. Matplotlib contouring functions are used to make contours of the layers or a cross-section."
   ]
  },
  {
   "cell_type": "code",
   "execution_count": null,
   "id": "8cab3813",
   "metadata": {},
   "outputs": [],
   "source": [
    "# Extract the GWF model from the simulation\n",
    "ml = sim.get_model(\"gwf_1\")\n"
   ]
  },
  {
   "cell_type": "markdown",
   "id": "3fdb229c",
   "metadata": {},
   "source": [
    "The head file output and cell budget file output can be loaded from either the model object or the OC package object."
   ]
  },
  {
   "cell_type": "code",
   "execution_count": null,
   "id": "21eeb3b0",
   "metadata": {},
   "outputs": [],
   "source": [
    "bud = ml.output.budget()\n",
    "bud.get_data(idx=0, full3D=True)"
   ]
  },
  {
   "cell_type": "code",
   "execution_count": null,
   "id": "83d4e791",
   "metadata": {
    "execution": {
     "iopub.execute_input": "2023-09-30T20:44:16.331370Z",
     "iopub.status.busy": "2023-09-30T20:44:16.331076Z",
     "iopub.status.idle": "2023-09-30T20:44:16.344627Z",
     "shell.execute_reply": "2023-09-30T20:44:16.343934Z"
    }
   },
   "outputs": [],
   "source": [
    "hds = ml.output.head()\n",
    "hds.get_data()"
   ]
  },
  {
   "cell_type": "code",
   "execution_count": null,
   "id": "cb4f7cd2",
   "metadata": {
    "execution": {
     "iopub.execute_input": "2023-09-30T20:44:16.349684Z",
     "iopub.status.busy": "2023-09-30T20:44:16.348362Z",
     "iopub.status.idle": "2023-09-30T20:44:16.364520Z",
     "shell.execute_reply": "2023-09-30T20:44:16.363821Z"
    }
   },
   "outputs": [],
   "source": [
    "bud = ml.oc.output.budget()\n",
    "bud.list_records()\n",
    "\n",
    "bud.get_data(text='WEL')"
   ]
  },
  {
   "cell_type": "code",
   "execution_count": null,
   "id": "7f0f8d3d",
   "metadata": {},
   "outputs": [],
   "source": [
    "# Extract the CHD flows\n"
   ]
  },
  {
   "cell_type": "code",
   "execution_count": null,
   "id": "14418bd7",
   "metadata": {
    "execution": {
     "iopub.execute_input": "2023-09-30T20:44:16.369906Z",
     "iopub.status.busy": "2023-09-30T20:44:16.368385Z",
     "iopub.status.idle": "2023-09-30T20:44:16.385517Z",
     "shell.execute_reply": "2023-09-30T20:44:16.384824Z"
    }
   },
   "outputs": [],
   "source": [
    "hds = ml.oc.output.head()\n",
    "h = hds.get_data()\n",
    "h.shape"
   ]
  },
  {
   "cell_type": "code",
   "execution_count": 29,
   "id": "ffbaec55",
   "metadata": {},
   "outputs": [],
   "source": [
    "grid = ml.modelgrid\n",
    "grid\n"
   ]
  },
  {
   "cell_type": "code",
   "execution_count": null,
   "id": "3b5d9846",
   "metadata": {},
   "outputs": [],
   "source": [
    "# extract cell center coordinates for plot\n",
    "x0 = grid.get_xcellcenters_for_layer(layer=0)\n",
    "y0 = grid.get_ycellcenters_for_layer(layer=0)"
   ]
  },
  {
   "cell_type": "code",
   "execution_count": null,
   "id": "147f1be0",
   "metadata": {
    "execution": {
     "iopub.execute_input": "2023-09-30T20:44:18.517559Z",
     "iopub.status.busy": "2023-09-30T20:44:18.516240Z",
     "iopub.status.idle": "2023-09-30T20:44:18.870689Z",
     "shell.execute_reply": "2023-09-30T20:44:18.869947Z"
    }
   },
   "outputs": [],
   "source": [
    "\n",
    "min_hd = round(np.min(h[:, :, :]),0)\n",
    "c = plt.contour(x0, y0, h[0,:, :], np.arange(min_hd, 0, 0.5))\n",
    "plt.clabel(c, fmt=\"%1.1f\")\n",
    "plt.axis(\"scaled\")"
   ]
  },
  {
   "cell_type": "code",
   "execution_count": null,
   "id": "1ce09c4c",
   "metadata": {
    "execution": {
     "iopub.execute_input": "2023-09-30T20:44:19.119740Z",
     "iopub.status.busy": "2023-09-30T20:44:19.118522Z",
     "iopub.status.idle": "2023-09-30T20:44:19.507760Z",
     "shell.execute_reply": "2023-09-30T20:44:19.507091Z"
    }
   },
   "outputs": [],
   "source": [
    "# We can also use the Flopy PlotMapView capabilities for MODFLOW 6\n",
    "fig = plt.figure(figsize=(10, 10))\n",
    "ax = fig.add_subplot(1, 1, 1, aspect=\"equal\")\n",
    "modelmap = flopy.plot.PlotMapView(model=ml, layer=0, ax=ax)\n",
    "\n",
    "# Then we can use the plot_grid() method to draw the grid\n",
    "# The return value for this function is a matplotlib LineCollection object,\n",
    "# which could be manipulated (or used) later if necessary.\n",
    "quadmesh = modelmap.plot_bc('CHD')\n",
    "ww = modelmap.plot_bc('WEL')\n",
    "linecollection = modelmap.plot_grid()\n",
    "contours = modelmap.contour_array(h[-1], levels=np.arange(min_hd, 0, 0.5))"
   ]
  },
  {
   "cell_type": "code",
   "execution_count": null,
   "id": "687d3f8e",
   "metadata": {
    "execution": {
     "iopub.execute_input": "2023-09-30T20:44:19.511722Z",
     "iopub.status.busy": "2023-09-30T20:44:19.511452Z",
     "iopub.status.idle": "2023-09-30T20:44:19.952263Z",
     "shell.execute_reply": "2023-09-30T20:44:19.951559Z"
    }
   },
   "outputs": [],
   "source": [
    "# We can also use the Flopy PlotMapView capabilities for MODFLOW 6\n",
    "fig = plt.figure(figsize=(10, 10))\n",
    "ax = fig.add_subplot(1, 1, 1, aspect=\"equal\")\n",
    "\n",
    "# Next we create an instance of the ModelMap class\n",
    "modelmap = flopy.plot.PlotMapView(model=ml, ax=ax)\n",
    "\n",
    "# Then we can use the plot_grid() method to draw the grid\n",
    "# The return value for this function is a matplotlib LineCollection object,\n",
    "# which could be manipulated (or used) later if necessary.\n",
    "linecollection = modelmap.plot_grid()\n",
    "pa = modelmap.plot_array(h[0])\n",
    "cb = plt.colorbar(pa, shrink=0.5)"
   ]
  },
  {
   "cell_type": "markdown",
   "id": "6e893dc0",
   "metadata": {},
   "source": [
    "### Post-Process Flows\n",
    "\n",
    "MODFLOW 6 writes a binary grid file, which contains information about the model grid.  MODFLOW 6 also writes a binary budget file, which contains flow information.  Both of these files can be read using Flopy capabilities.  The MfGrdFile class in Flopy can be used to read the binary grid file.  The CellBudgetFile class in Flopy can be used to read the binary budget file written by MODFLOW 6."
   ]
  },
  {
   "cell_type": "code",
   "execution_count": null,
   "id": "67b5dd91",
   "metadata": {
    "execution": {
     "iopub.execute_input": "2023-09-30T20:44:19.957462Z",
     "iopub.status.busy": "2023-09-30T20:44:19.956137Z",
     "iopub.status.idle": "2023-09-30T20:44:19.971144Z",
     "shell.execute_reply": "2023-09-30T20:44:19.970468Z"
    }
   },
   "outputs": [],
   "source": [
    "# read the binary grid file\n",
    "fname = os.path.join(sim_workspace, \"{}.dis.grb\".format('gwf_well_00'))\n",
    "bgf = flopy.mf6.utils.MfGrdFile(fname)\n",
    "\n",
    "# data read from the binary grid file is stored in a dictionary\n",
    "bgf._datadict"
   ]
  },
  {
   "cell_type": "markdown",
   "id": "26a12ae4",
   "metadata": {},
   "source": [
    "### Determine the Flow Residual\n",
    "\n",
    "The FLOW-JA-FACE cell-by-cell budget data can be processed to determine the flow residual for each cell in a MODFLOW 6 model. The diagonal position for each row in the FLOW-JA-FACE cell-by-cell budget data contains the flow residual for each cell and can be extracted using the flopy.mf6.utils.get_residuals() function."
   ]
  },
  {
   "cell_type": "code",
   "execution_count": 50,
   "id": "dc68be09",
   "metadata": {
    "execution": {
     "iopub.execute_input": "2023-09-30T20:44:19.976272Z",
     "iopub.status.busy": "2023-09-30T20:44:19.974967Z",
     "iopub.status.idle": "2023-09-30T20:44:19.987682Z",
     "shell.execute_reply": "2023-09-30T20:44:19.987045Z"
    }
   },
   "outputs": [],
   "source": [
    "# read the cell budget file\n",
    "flowja = bud.get_data(text=\"FLOW-JA-FACE\")[0][0, 0, :]\n",
    "chdflow = bud.get_data(text=\"CHD\")[0]"
   ]
  },
  {
   "cell_type": "code",
   "execution_count": 61,
   "id": "7be5b48b",
   "metadata": {
    "execution": {
     "iopub.execute_input": "2023-09-30T20:44:19.992349Z",
     "iopub.status.busy": "2023-09-30T20:44:19.991063Z",
     "iopub.status.idle": "2023-09-30T20:44:20.000031Z",
     "shell.execute_reply": "2023-09-30T20:44:19.999410Z"
    }
   },
   "outputs": [],
   "source": [
    "residual = flopy.mf6.utils.get_residuals(flowja, grb_file=fname)"
   ]
  },
  {
   "cell_type": "markdown",
   "id": "d62cc1dd",
   "metadata": {},
   "source": [
    "# Plot a Map of the flow error in Layer 0 (Top Layer)"
   ]
  },
  {
   "cell_type": "code",
   "execution_count": null,
   "id": "4b00fac3",
   "metadata": {},
   "outputs": [],
   "source": [
    "fig, ax = plt.subplots(1, 1, figsize=(6, 6), constrained_layout=True)\n",
    "ax.set_title(\"Model Layer 0\")\n",
    "modelmap = flopy.plot.PlotMapView(model=ml, ax=ax, layer=0)\n",
    "pa = modelmap.plot_array(residual)\n",
    "quadmesh = modelmap.plot_bc(\"CHD\")\n",
    "linecollection = modelmap.plot_grid(lw=0.5, color=\"0.5\")\n",
    "contours = modelmap.contour_array(\n",
    "    h,\n",
    "    levels=np.arange(min_hd, 0, 0.5),\n",
    "    colors=\"black\",\n",
    ")\n",
    "ax.clabel(contours, fmt=\"%2.1f\")\n",
    "plt.colorbar(pa, shrink=0.5);\n",
    "\n"
   ]
  }
 ],
 "metadata": {
  "jupytext": {
   "notebook_metadata_filter": "metadata"
  },
  "kernelspec": {
   "display_name": "Python 3 (ipykernel)",
   "language": "python",
   "name": "python3"
  },
  "language_info": {
   "codemirror_mode": {
    "name": "ipython",
    "version": 3
   },
   "file_extension": ".py",
   "mimetype": "text/x-python",
   "name": "python",
   "nbconvert_exporter": "python",
   "pygments_lexer": "ipython3",
   "version": "3.10.13"
  },
  "metadata": {
   "section": "mf6"
  }
 },
 "nbformat": 4,
 "nbformat_minor": 5
}
