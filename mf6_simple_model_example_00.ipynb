{
 "cells": [
  {
   "cell_type": "markdown",
   "id": "490130a6",
   "metadata": {},
   "source": [
    "## Creating a Simple MODFLOW 6 Model with Flopy\n",
    "\n",
    "The purpose of this notebook is to demonstrate the Flopy capabilities for building a simple MODFLOW 6 model from scratch, running the model, and viewing the results.  This notebook will demonstrate the capabilities using a simple well example.  "
   ]
  },
  {
   "cell_type": "markdown",
   "id": "a17ca35d",
   "metadata": {},
   "source": [
    "![mf6](./images/mf6_flowchart.png)"
   ]
  },
  {
   "cell_type": "markdown",
   "id": "8b2310c2",
   "metadata": {},
   "source": [
    "### Setup the Notebook Environment"
   ]
  },
  {
   "cell_type": "code",
   "execution_count": 30,
   "id": "095ecb90",
   "metadata": {
    "execution": {
     "iopub.execute_input": "2023-09-30T20:44:15.472064Z",
     "iopub.status.busy": "2023-09-30T20:44:15.471536Z",
     "iopub.status.idle": "2023-09-30T20:44:15.485021Z",
     "shell.execute_reply": "2023-09-30T20:44:15.484368Z"
    }
   },
   "outputs": [],
   "source": [
    "import os"
   ]
  },
  {
   "cell_type": "code",
   "execution_count": 31,
   "id": "288a2453",
   "metadata": {
    "execution": {
     "iopub.execute_input": "2023-09-30T20:44:15.490185Z",
     "iopub.status.busy": "2023-09-30T20:44:15.488591Z",
     "iopub.status.idle": "2023-09-30T20:44:16.162577Z",
     "shell.execute_reply": "2023-09-30T20:44:16.161874Z"
    }
   },
   "outputs": [
    {
     "name": "stdout",
     "output_type": "stream",
     "text": [
      "3.10.13 | packaged by Anaconda, Inc. | (main, Sep 11 2023, 13:24:38) [MSC v.1916 64 bit (AMD64)]\n",
      "numpy version: 1.24.3\n",
      "matplotlib version: 3.7.2\n",
      "flopy version: 3.4.1\n"
     ]
    }
   ],
   "source": [
    "import sys\n",
    "from tempfile import TemporaryDirectory\n",
    "\n",
    "import matplotlib as mpl\n",
    "import matplotlib.pyplot as plt\n",
    "import numpy as np\n",
    "\n",
    "import flopy\n",
    "\n",
    "print(sys.version)\n",
    "print(\"numpy version: {}\".format(np.__version__))\n",
    "print(\"matplotlib version: {}\".format(mpl.__version__))\n",
    "print(\"flopy version: {}\".format(flopy.__version__))"
   ]
  },
  {
   "cell_type": "code",
   "execution_count": 32,
   "id": "34af737f",
   "metadata": {
    "execution": {
     "iopub.execute_input": "2023-09-30T20:44:16.167411Z",
     "iopub.status.busy": "2023-09-30T20:44:16.165966Z",
     "iopub.status.idle": "2023-09-30T20:44:16.171791Z",
     "shell.execute_reply": "2023-09-30T20:44:16.171154Z"
    }
   },
   "outputs": [],
   "source": [
    "# For this example, we will set up a temporary workspace.\n",
    "# Model input files and output files will reside here.\n",
    "temp_dir = TemporaryDirectory()\n",
    "workspace = os.path.join(temp_dir.name, \"mf6Well\")"
   ]
  },
  {
   "cell_type": "code",
   "execution_count": 33,
   "id": "45007821",
   "metadata": {},
   "outputs": [
    {
     "name": "stdout",
     "output_type": "stream",
     "text": [
      "[WinError 183] Cannot create a file when that file already exists: '.\\\\mf6Well'\n"
     ]
    }
   ],
   "source": [
    "# Alternatively - create a folder to save the output files\n",
    "workspace = os.path.join(\".\", \"mf6Well\")\n",
    "try: \n",
    "    os.mkdir(workspace) \n",
    "    print(\"Directory '%s' created\" %workspace) \n",
    "except OSError as error: \n",
    "    print(error)    "
   ]
  },
  {
   "cell_type": "markdown",
   "id": "75aea65f",
   "metadata": {},
   "source": [
    "### Create the Flopy Model Objects\n",
    "\n",
    "We are creating a square model with a specified head equal to `initial_head` along all boundaries. The head at the cells in first row in the top layer is fixed to `const_head`. First, set the name of the model and the parameters of the model: the number of layers `nlay`, the number of rows and columns `nrow` and `ncol`, lengths of the sides of the model `L`, aquifer thickness `H`, hydraulic conductivity `hk`"
   ]
  },
  {
   "cell_type": "code",
   "execution_count": 34,
   "id": "62bc6e91",
   "metadata": {
    "execution": {
     "iopub.execute_input": "2023-09-30T20:44:16.176811Z",
     "iopub.status.busy": "2023-09-30T20:44:16.175492Z",
     "iopub.status.idle": "2023-09-30T20:44:16.181062Z",
     "shell.execute_reply": "2023-09-30T20:44:16.180417Z"
    }
   },
   "outputs": [],
   "source": [
    "model_name = \"well_00\"\n",
    "initial_head = 0. # meters\n",
    "const_head = 0. # meters\n",
    "nlay, nrow, ncol = 1, 15, 15 \n",
    "L = 15000 # meters\n",
    "hk = 1.0 # m/d"
   ]
  },
  {
   "cell_type": "markdown",
   "id": "e2884fe0",
   "metadata": {},
   "source": [
    "One big difference between MODFLOW 6 and previous MODFLOW versions is that MODFLOW 6 is based on the concept of a simulation.  A simulation consists of the following:\n",
    "\n",
    "* Temporal discretization (TDIS)\n",
    "* One or more models (GWF is the only model supported at present)\n",
    "* Zero or more exchanges (instructions for how models are coupled)\n",
    "* Solutions\n",
    "\n",
    "For this simple lake example, the simulation consists of the temporal discretization (TDIS) package (TDIS), a groundwater flow (GWF) model, and an iterative model solution (IMS), which controls how the GWF model is solved.\n",
    "\n"
   ]
  },
  {
   "cell_type": "markdown",
   "id": "c56d4ec8",
   "metadata": {},
   "source": [
    "![mf6_simulation](./images/mf6_flowchart_p1.png)"
   ]
  },
  {
   "cell_type": "code",
   "execution_count": 35,
   "id": "dccdd455",
   "metadata": {
    "execution": {
     "iopub.execute_input": "2023-09-30T20:44:16.185981Z",
     "iopub.status.busy": "2023-09-30T20:44:16.184668Z",
     "iopub.status.idle": "2023-09-30T20:44:16.317100Z",
     "shell.execute_reply": "2023-09-30T20:44:16.310241Z"
    }
   },
   "outputs": [],
   "source": [
    "# Create the Flopy simulation object\n",
    "sim = flopy.mf6.MFSimulation(\n",
    "    sim_name=model_name, exe_name=\"./bin/mf6_linux\", version=\"mf6\", sim_ws=workspace\n",
    ")\n"
   ]
  },
  {
   "cell_type": "code",
   "execution_count": 36,
   "id": "585babaf",
   "metadata": {},
   "outputs": [],
   "source": [
    "# Create the Flopy temporal discretization object\n",
    "ntimesteps = 19\n",
    "tdis = flopy.mf6.modflow.mftdis.ModflowTdis(\n",
    "    sim, pname=\"tdis\", \n",
    "    time_units=\"DAYS\", \n",
    "    nper=1, \n",
    "    perioddata=[(3650, ntimesteps, 1.5)],\n",
    ")\n"
   ]
  },
  {
   "cell_type": "code",
   "execution_count": 37,
   "id": "8cab3813",
   "metadata": {},
   "outputs": [],
   "source": [
    "# Create the Flopy iterative model solver (ims) Package object\n",
    "ims = flopy.mf6.ModflowIms(\n",
    "    sim, \n",
    "    pname=\"ims\", \n",
    "    complexity=\"SIMPLE\"\n",
    "    )"
   ]
  },
  {
   "cell_type": "markdown",
   "id": "6551fdc3",
   "metadata": {},
   "source": [
    "Now that the overall simulation is set up, we can focus on building the groundwater flow model.  The groundwater flow model will be built by adding packages to it that describe the model characteristics.\n",
    "\n",
    "!['mf6_gwf'](./images/mf6_flowchart_p2.png)\n",
    "\n",
    "Define the discretization of the model. All layers are given equal thickness. The `bot` array is build from `H` and the `Nlay` values to indicate top and bottom of each layer, and `delrow` and `delcol` are computed from model size `L` and number of cells `N`. Once these are all computed, the Discretization file is built."
   ]
  },
  {
   "cell_type": "code",
   "execution_count": 38,
   "id": "21eeb3b0",
   "metadata": {},
   "outputs": [],
   "source": [
    "# Create the Flopy groundwater flow (gwf) model object\n",
    "gwf_name = \"gwf_well_00\"\n",
    "model_nam_file = \"{}.nam\".format(gwf_name)\n",
    "gwf = flopy.mf6.ModflowGwf(\n",
    "    sim, \n",
    "    modelname=\"gwf_well_00\", \n",
    "    model_nam_file=model_nam_file\n",
    "    )"
   ]
  },
  {
   "cell_type": "code",
   "execution_count": 39,
   "id": "83d4e791",
   "metadata": {
    "execution": {
     "iopub.execute_input": "2023-09-30T20:44:16.331370Z",
     "iopub.status.busy": "2023-09-30T20:44:16.331076Z",
     "iopub.status.idle": "2023-09-30T20:44:16.344627Z",
     "shell.execute_reply": "2023-09-30T20:44:16.343934Z"
    }
   },
   "outputs": [],
   "source": [
    "# Create the discretization package\n",
    "top, bot = 0, -100\n",
    "delrow = delcol = 1000.\n",
    "dis = flopy.mf6.modflow.mfgwfdis.ModflowGwfdis(\n",
    "    gwf,\n",
    "    pname=\"dis\",\n",
    "    length_units='METERS',\n",
    "    nlay=nlay,\n",
    "    nrow=nrow,\n",
    "    ncol=ncol,\n",
    "    delr=delrow,\n",
    "    delc=delcol,\n",
    "    top=top,\n",
    "    botm=bot,\n",
    ")"
   ]
  },
  {
   "cell_type": "code",
   "execution_count": 40,
   "id": "cb4f7cd2",
   "metadata": {
    "execution": {
     "iopub.execute_input": "2023-09-30T20:44:16.349684Z",
     "iopub.status.busy": "2023-09-30T20:44:16.348362Z",
     "iopub.status.idle": "2023-09-30T20:44:16.364520Z",
     "shell.execute_reply": "2023-09-30T20:44:16.363821Z"
    }
   },
   "outputs": [],
   "source": [
    "# Create the initial conditions package\n",
    "start = initial_head\n",
    "ic = flopy.mf6.ModflowGwfic(\n",
    "    gwf, \n",
    "    pname=\"ic\", \n",
    "    strt=start\n",
    "    )"
   ]
  },
  {
   "cell_type": "code",
   "execution_count": 41,
   "id": "14418bd7",
   "metadata": {
    "execution": {
     "iopub.execute_input": "2023-09-30T20:44:16.369906Z",
     "iopub.status.busy": "2023-09-30T20:44:16.368385Z",
     "iopub.status.idle": "2023-09-30T20:44:16.385517Z",
     "shell.execute_reply": "2023-09-30T20:44:16.384824Z"
    }
   },
   "outputs": [],
   "source": [
    "# Create the node property flow package\n",
    "npf = flopy.mf6.modflow.mfgwfnpf.ModflowGwfnpf(\n",
    "    gwf, \n",
    "    pname=\"npf\", \n",
    "    icelltype=1, \n",
    "    k=hk, \n",
    "    save_flows=True\n",
    ")"
   ]
  },
  {
   "cell_type": "code",
   "execution_count": 42,
   "id": "02b42660",
   "metadata": {},
   "outputs": [],
   "source": [
    "# Create the storage package\n",
    "sto = flopy.mf6.ModflowGwfsto(\n",
    "    gwf,\n",
    "    pname=\"sto\",\n",
    "    save_flows=True,\n",
    "    iconvert=[0],\n",
    "    ss=2.0e-6,\n",
    "    sy=0.2,\n",
    "    transient={0: True},\n",
    ")"
   ]
  },
  {
   "cell_type": "code",
   "execution_count": 43,
   "id": "5a016fa0",
   "metadata": {},
   "outputs": [],
   "source": [
    "# Create the well package\n",
    "tdis.nper\n",
    "stress_period_data = {}\n",
    "for p in range(tdis.nper.array):\n",
    "    stress_period_data[p] = [0, 7, 7,-600.,'well_00']\n",
    "\n",
    "wel = flopy.mf6.ModflowGwfwel(\n",
    "    gwf,\n",
    "    pname=\"wel\",\n",
    "    print_input=True,\n",
    "    print_flows=True,\n",
    "    #auxiliary=[(\"var1\")],\n",
    "    maxbound=len(stress_period_data),\n",
    "    stress_period_data=stress_period_data,\n",
    "    boundnames=True,\n",
    "    save_flows=True,\n",
    ")\n",
    "\n",
    "ra_wel = wel.stress_period_data.get_data(key=0)"
   ]
  },
  {
   "cell_type": "code",
   "execution_count": 44,
   "id": "65858d2f",
   "metadata": {
    "execution": {
     "iopub.execute_input": "2023-09-30T20:44:16.390488Z",
     "iopub.status.busy": "2023-09-30T20:44:16.389199Z",
     "iopub.status.idle": "2023-09-30T20:44:16.519363Z",
     "shell.execute_reply": "2023-09-30T20:44:16.518579Z"
    }
   },
   "outputs": [],
   "source": [
    "# Create the constant head package.\n",
    "# List information is created a bit differently for\n",
    "# MODFLOW 6 than for other MODFLOW versions.  The\n",
    "# cellid (layer, row, column, for a regular grid)\n",
    "# must be entered as a tuple as the first entry.\n",
    "# Remember that these must be zero-based indices!\n",
    "chd_rec = []\n",
    "for col in range(0, ncol):\n",
    "    chd_rec.append([0, 0, col, const_head])\n",
    "\n",
    "chd = flopy.mf6.ModflowGwfchd(\n",
    "    gwf,\n",
    "    pname=\"chd\",\n",
    "    maxbound=len(chd_rec),\n",
    "    stress_period_data={0: chd_rec},\n",
    "    save_flows=True,\n",
    ")"
   ]
  },
  {
   "cell_type": "code",
   "execution_count": 45,
   "id": "33c122f3",
   "metadata": {
    "execution": {
     "iopub.execute_input": "2023-09-30T20:44:16.525102Z",
     "iopub.status.busy": "2023-09-30T20:44:16.523712Z",
     "iopub.status.idle": "2023-09-30T20:44:16.535670Z",
     "shell.execute_reply": "2023-09-30T20:44:16.535018Z"
    }
   },
   "outputs": [
    {
     "data": {
      "text/plain": [
       "rec.array([((0, 0, 0), 0.), ((0, 0, 1), 0.), ((0, 0, 2), 0.),\n",
       "           ((0, 0, 3), 0.), ((0, 0, 4), 0.), ((0, 0, 5), 0.),\n",
       "           ((0, 0, 6), 0.), ((0, 0, 7), 0.), ((0, 0, 8), 0.),\n",
       "           ((0, 0, 9), 0.), ((0, 0, 10), 0.), ((0, 0, 11), 0.),\n",
       "           ((0, 0, 12), 0.), ((0, 0, 13), 0.), ((0, 0, 14), 0.)],\n",
       "          dtype=[('cellid', 'O'), ('head', '<f8')])"
      ]
     },
     "execution_count": 45,
     "metadata": {},
     "output_type": "execute_result"
    }
   ],
   "source": [
    "# The chd package stored the constant heads in a structured\n",
    "# array, also called a recarray.  We can get a pointer to the\n",
    "# recarray for the first stress period (iper = 0) as follows.\n",
    "iper = 0\n",
    "ra = chd.stress_period_data.get_data(key=0)\n",
    "ra"
   ]
  },
  {
   "cell_type": "code",
   "execution_count": 46,
   "id": "9bfcb08b",
   "metadata": {
    "execution": {
     "iopub.execute_input": "2023-09-30T20:44:16.540955Z",
     "iopub.status.busy": "2023-09-30T20:44:16.539610Z",
     "iopub.status.idle": "2023-09-30T20:44:16.816335Z",
     "shell.execute_reply": "2023-09-30T20:44:16.815633Z"
    }
   },
   "outputs": [
    {
     "data": {
      "text/plain": [
       "Text(0.5, 1.0, 'Layer 1: Constant Head Cells')"
      ]
     },
     "execution_count": 46,
     "metadata": {},
     "output_type": "execute_result"
    },
    {
     "data": {
      "image/png": "[encoded data removed]",
      "text/plain": [
       "<Figure size 640x480 with 1 Axes>"
      ]
     },
     "metadata": {},
     "output_type": "display_data"
    }
   ],
   "source": [
    "# We can make a quick plot to show where our constant\n",
    "# heads are located by creating an integer array\n",
    "# that starts with ones everywhere, but is assigned\n",
    "# a -1 where chds are located\n",
    "ibd = np.ones((nlay, nrow, ncol), dtype=int)\n",
    "for k, i, j in ra[\"cellid\"]:\n",
    "    ibd[k, i, j] = -1\n",
    "\n",
    "for k, i, j in ra_wel[\"cellid\"]:\n",
    "    ibd[k, i, j] = 0\n",
    "\n",
    "plt.imshow(ibd[0, :, :], interpolation=\"none\")\n",
    "plt.title(\"Layer {}: Constant Head Cells\".format(1))"
   ]
  },
  {
   "cell_type": "code",
   "execution_count": 47,
   "id": "8eead045",
   "metadata": {
    "execution": {
     "iopub.execute_input": "2023-09-30T20:44:16.821551Z",
     "iopub.status.busy": "2023-09-30T20:44:16.820216Z",
     "iopub.status.idle": "2023-09-30T20:44:16.861324Z",
     "shell.execute_reply": "2023-09-30T20:44:16.860587Z"
    }
   },
   "outputs": [],
   "source": [
    "# Create the output control package\n",
    "headfile = \"{}.hds\".format(gwf_name)\n",
    "head_filerecord = [headfile]\n",
    "budgetfile = \"{}.cbb\".format(gwf_name)\n",
    "budget_filerecord = [budgetfile]\n",
    "# Note mf6 no longer supports drawdown output \n",
    "saverecord = [(\"HEAD\", \"ALL\"), (\"BUDGET\", \"ALL\")]\n",
    "printrecord = [(\"HEAD\", \"LAST\")]\n",
    "oc = flopy.mf6.modflow.mfgwfoc.ModflowGwfoc(\n",
    "    gwf,\n",
    "    pname=\"oc\",\n",
    "    saverecord=saverecord,\n",
    "    head_filerecord=head_filerecord,\n",
    "    budget_filerecord=budget_filerecord,\n",
    "    printrecord=printrecord,\n",
    ")"
   ]
  },
  {
   "cell_type": "code",
   "execution_count": 48,
   "id": "395ece04",
   "metadata": {
    "execution": {
     "iopub.execute_input": "2023-09-30T20:44:16.866801Z",
     "iopub.status.busy": "2023-09-30T20:44:16.865434Z",
     "iopub.status.idle": "2023-09-30T20:44:16.877962Z",
     "shell.execute_reply": "2023-09-30T20:44:16.877310Z"
    }
   },
   "outputs": [
    {
     "name": "stdout",
     "output_type": "stream",
     "text": [
      "Help on ModflowGwfoc in module flopy.mf6.modflow.mfgwfoc object:\n",
      "\n",
      "class ModflowGwfoc(flopy.mf6.mfpackage.MFPackage)\n",
      " |  ModflowGwfoc(model, loading_package=False, budget_filerecord=None, budgetcsv_filerecord=None, head_filerecord=None, headprintrecord=None, saverecord=None, printrecord=None, filename=None, pname=None, **kwargs)\n",
      " |  \n",
      " |  ModflowGwfoc defines a oc package within a gwf6 model.\n",
      " |  \n",
      " |  Parameters\n",
      " |  ----------\n",
      " |  model : MFModel\n",
      " |      Model that this package is a part of. Package is automatically\n",
      " |      added to model when it is initialized.\n",
      " |  loading_package : bool\n",
      " |      Do not set this parameter. It is intended for debugging and internal\n",
      " |      processing purposes only.\n",
      " |  budget_filerecord : [budgetfile]\n",
      " |      * budgetfile (string) name of the output file to write budget\n",
      " |        information.\n",
      " |  budgetcsv_filerecord : [budgetcsvfile]\n",
      " |      * budgetcsvfile (string) name of the comma-separated value (CSV) output\n",
      " |        file to write budget summary information. A budget summary record\n",
      " |        will be written to this file for each time step of the simulation.\n",
      " |  head_filerecord : [headfile]\n",
      " |      * headfile (string) name of the output file to write head information.\n",
      " |  headprintrecord : [columns, width, digits, format]\n",
      " |      * columns (integer) number of columns for writing data.\n",
      " |      * width (integer) width for writing each number.\n",
      " |      * digits (integer) number of digits to use for writing a number.\n",
      " |      * format (string) write format can be EXPONENTIAL, FIXED, GENERAL, or\n",
      " |        SCIENTIFIC.\n",
      " |  saverecord : [rtype, ocsetting]\n",
      " |      * rtype (string) type of information to save or print. Can be BUDGET or\n",
      " |        HEAD.\n",
      " |      * ocsetting (keystring) specifies the steps for which the data will be\n",
      " |        saved.\n",
      " |          all : [keyword]\n",
      " |              * all (keyword) keyword to indicate save for all time steps in\n",
      " |                period.\n",
      " |          first : [keyword]\n",
      " |              * first (keyword) keyword to indicate save for first step in\n",
      " |                period. This keyword may be used in conjunction with other\n",
      " |                keywords to print or save results for multiple time steps.\n",
      " |          last : [keyword]\n",
      " |              * last (keyword) keyword to indicate save for last step in\n",
      " |                period. This keyword may be used in conjunction with other\n",
      " |                keywords to print or save results for multiple time steps.\n",
      " |          frequency : [integer]\n",
      " |              * frequency (integer) save at the specified time step\n",
      " |                frequency. This keyword may be used in conjunction with other\n",
      " |                keywords to print or save results for multiple time steps.\n",
      " |          steps : [integer]\n",
      " |              * steps (integer) save for each step specified in STEPS. This\n",
      " |                keyword may be used in conjunction with other keywords to\n",
      " |                print or save results for multiple time steps.\n",
      " |  printrecord : [rtype, ocsetting]\n",
      " |      * rtype (string) type of information to save or print. Can be BUDGET or\n",
      " |        HEAD.\n",
      " |      * ocsetting (keystring) specifies the steps for which the data will be\n",
      " |        saved.\n",
      " |          all : [keyword]\n",
      " |              * all (keyword) keyword to indicate save for all time steps in\n",
      " |                period.\n",
      " |          first : [keyword]\n",
      " |              * first (keyword) keyword to indicate save for first step in\n",
      " |                period. This keyword may be used in conjunction with other\n",
      " |                keywords to print or save results for multiple time steps.\n",
      " |          last : [keyword]\n",
      " |              * last (keyword) keyword to indicate save for last step in\n",
      " |                period. This keyword may be used in conjunction with other\n",
      " |                keywords to print or save results for multiple time steps.\n",
      " |          frequency : [integer]\n",
      " |              * frequency (integer) save at the specified time step\n",
      " |                frequency. This keyword may be used in conjunction with other\n",
      " |                keywords to print or save results for multiple time steps.\n",
      " |          steps : [integer]\n",
      " |              * steps (integer) save for each step specified in STEPS. This\n",
      " |                keyword may be used in conjunction with other keywords to\n",
      " |                print or save results for multiple time steps.\n",
      " |  filename : String\n",
      " |      File name for this package.\n",
      " |  pname : String\n",
      " |      Package name for this package.\n",
      " |  parent_file : MFPackage\n",
      " |      Parent package file that references this package. Only needed for\n",
      " |      utility packages (mfutl*). For example, mfutllaktab package must have\n",
      " |      a mfgwflak package parent_file.\n",
      " |  \n",
      " |  Method resolution order:\n",
      " |      ModflowGwfoc\n",
      " |      flopy.mf6.mfpackage.MFPackage\n",
      " |      flopy.mf6.mfbase.PackageContainer\n",
      " |      flopy.pakbase.PackageInterface\n",
      " |      builtins.object\n",
      " |  \n",
      " |  Methods defined here:\n",
      " |  \n",
      " |  __init__(self, model, loading_package=False, budget_filerecord=None, budgetcsv_filerecord=None, head_filerecord=None, headprintrecord=None, saverecord=None, printrecord=None, filename=None, pname=None, **kwargs)\n",
      " |      Initialize self.  See help(type(self)) for accurate signature.\n",
      " |  \n",
      " |  ----------------------------------------------------------------------\n",
      " |  Data and other attributes defined here:\n",
      " |  \n",
      " |  budget_filerecord = <flopy.mf6.data.mfdatautil.ListTemplateGenerator o...\n",
      " |  \n",
      " |  budgetcsv_filerecord = <flopy.mf6.data.mfdatautil.ListTemplateGenerato...\n",
      " |  \n",
      " |  dfn = [['header'], ['block options', 'name budget_filerecord', 'type r...\n",
      " |  \n",
      " |  dfn_file_name = 'gwf-oc.dfn'\n",
      " |  \n",
      " |  head_filerecord = <flopy.mf6.data.mfdatautil.ListTemplateGenerator obj...\n",
      " |  \n",
      " |  headprintrecord = <flopy.mf6.data.mfdatautil.ListTemplateGenerator obj...\n",
      " |  \n",
      " |  package_abbr = 'gwfoc'\n",
      " |  \n",
      " |  printrecord = <flopy.mf6.data.mfdatautil.ListTemplateGenerator object>\n",
      " |  \n",
      " |  saverecord = <flopy.mf6.data.mfdatautil.ListTemplateGenerator object>\n",
      " |  \n",
      " |  ----------------------------------------------------------------------\n",
      " |  Methods inherited from flopy.mf6.mfpackage.MFPackage:\n",
      " |  \n",
      " |  __repr__(self)\n",
      " |      Return repr(self).\n",
      " |  \n",
      " |  __setattr__(self, name, value)\n",
      " |      Implement setattr(self, name, value).\n",
      " |  \n",
      " |  __str__(self)\n",
      " |      Return str(self).\n",
      " |  \n",
      " |  build_child_package(self, pkg_type, data, parameter_name, filerecord)\n",
      " |      Builds a child package.  This method is only intended for FloPy\n",
      " |      internal use.\n",
      " |  \n",
      " |  build_child_packages_container(self, pkg_type, filerecord)\n",
      " |      Builds a container object for any child packages.  This method is\n",
      " |      only intended for FloPy internal use.\n",
      " |  \n",
      " |  build_mfdata(self, var_name, data=None)\n",
      " |      Returns the appropriate data type object (mfdatalist, mfdataarray,\n",
      " |      or mfdatascalar) given that object the appropriate structure (looked\n",
      " |      up based on var_name) and any data supplied.  This method is for\n",
      " |      internal FloPy library use only.\n",
      " |      \n",
      " |      Parameters\n",
      " |      ----------\n",
      " |      var_name : str\n",
      " |          Variable name\n",
      " |      \n",
      " |      data : many supported types\n",
      " |          Data contained in this object\n",
      " |      \n",
      " |      Returns\n",
      " |      -------\n",
      " |      data object : MFData subclass\n",
      " |  \n",
      " |  check(self, f=None, verbose=True, level=1, checktype=None)\n",
      " |      Data check, returns True on success.\n",
      " |  \n",
      " |  create_package_dimensions(self)\n",
      " |      Creates a package dimensions object.  For internal FloPy library\n",
      " |      use.\n",
      " |      \n",
      " |      Returns\n",
      " |      -------\n",
      " |      package dimensions : PackageDimensions\n",
      " |  \n",
      " |  export(self, f, **kwargs)\n",
      " |      Method to export a package to netcdf or shapefile based on the\n",
      " |      extension of the file name (.shp for shapefile, .nc for netcdf)\n",
      " |      \n",
      " |      Parameters\n",
      " |      ----------\n",
      " |      f : str\n",
      " |          Filename\n",
      " |      kwargs : keyword arguments\n",
      " |          modelgrid : flopy.discretization.Grid instance\n",
      " |              User supplied modelgrid which can be used for exporting\n",
      " |              in lieu of the modelgrid associated with the model object\n",
      " |      \n",
      " |      Returns\n",
      " |      -------\n",
      " |          None or Netcdf object\n",
      " |  \n",
      " |  get_file_path(self)\n",
      " |      Returns the package file's path.\n",
      " |      \n",
      " |      Returns\n",
      " |      -------\n",
      " |      file path : str\n",
      " |  \n",
      " |  inspect_cells(self, cell_list, stress_period=None)\n",
      " |      Inspect model cells.  Returns package data associated with cells.\n",
      " |      \n",
      " |      Parameters\n",
      " |      ----------\n",
      " |      cell_list : list of tuples\n",
      " |          List of model cells.  Each model cell is a tuple of integers.\n",
      " |          ex: [(1,1,1), (2,4,3)]\n",
      " |      stress_period : int\n",
      " |          For transient data, only return data from this stress period.  If\n",
      " |          not specified or None, all stress period data will be returned.\n",
      " |      \n",
      " |      Returns\n",
      " |      -------\n",
      " |      output : array\n",
      " |          Array containing inspection results\n",
      " |  \n",
      " |  is_valid(self)\n",
      " |      Returns whether or not this package is valid.\n",
      " |      \n",
      " |      Returns\n",
      " |      -------\n",
      " |      is valid : bool\n",
      " |  \n",
      " |  load(self, strict=True)\n",
      " |      Loads the package from file.\n",
      " |      \n",
      " |      Parameters\n",
      " |      ----------\n",
      " |      strict : bool\n",
      " |          Enforce strict checking of data.\n",
      " |      \n",
      " |      Returns\n",
      " |      -------\n",
      " |      success : bool\n",
      " |  \n",
      " |  plot(self, **kwargs)\n",
      " |      Plot 2-D, 3-D, transient 2-D, and stress period list (MfList)\n",
      " |      package input data\n",
      " |      \n",
      " |      Parameters\n",
      " |      ----------\n",
      " |      **kwargs : dict\n",
      " |          filename_base : str\n",
      " |              Base file name that will be used to automatically generate\n",
      " |              file names for output image files. Plots will be exported as\n",
      " |              image files if file_name_base is not None. (default is None)\n",
      " |          file_extension : str\n",
      " |              Valid matplotlib.pyplot file extension for savefig(). Only\n",
      " |              used if filename_base is not None. (default is 'png')\n",
      " |          mflay : int\n",
      " |              MODFLOW zero-based layer number to return.  If None, then all\n",
      " |              all layers will be included. (default is None)\n",
      " |          kper : int\n",
      " |              MODFLOW zero-based stress period number to return. (default is\n",
      " |              zero)\n",
      " |          key : str\n",
      " |              MfList dictionary key. (default is None)\n",
      " |      \n",
      " |      Returns\n",
      " |      ----------\n",
      " |      axes : list\n",
      " |          Empty list is returned if filename_base is not None. Otherwise\n",
      " |          a list of matplotlib.pyplot.axis are returned.\n",
      " |  \n",
      " |  remove(self)\n",
      " |      Removes this package from the simulation/model it is currently a\n",
      " |      part of.\n",
      " |  \n",
      " |  set_all_data_external(self, check_data=True, external_data_folder=None)\n",
      " |      Sets the package's list and array data to be stored externally.\n",
      " |      \n",
      " |      Parameters\n",
      " |      ----------\n",
      " |          check_data : bool\n",
      " |              Determine if data error checking is enabled\n",
      " |          external_data_folder\n",
      " |              Folder where external data will be stored\n",
      " |  \n",
      " |  set_all_data_internal(self, check_data=True)\n",
      " |      Sets the package's list and array data to be stored internally.\n",
      " |      \n",
      " |      Parameters\n",
      " |      ----------\n",
      " |          check_data : bool\n",
      " |              Determine if data error checking is enabled\n",
      " |  \n",
      " |  set_model_relative_path(self, model_ws)\n",
      " |      Sets the model path relative to the simulation's path.\n",
      " |      \n",
      " |      Parameters\n",
      " |      ----------\n",
      " |      model_ws : str\n",
      " |          Model path relative to the simulation's path.\n",
      " |  \n",
      " |  write(self, ext_file_action=<ExtFileAction.copy_relative_paths: 3>)\n",
      " |      Writes the package to a file.\n",
      " |      \n",
      " |      Parameters\n",
      " |      ----------\n",
      " |      ext_file_action : ExtFileAction\n",
      " |          How to handle pathing of external data files.\n",
      " |  \n",
      " |  ----------------------------------------------------------------------\n",
      " |  Class methods inherited from flopy.mf6.mfpackage.MFPackage:\n",
      " |  \n",
      " |  __init_subclass__() from builtins.type\n",
      " |      Register package type\n",
      " |  \n",
      " |  ----------------------------------------------------------------------\n",
      " |  Readonly properties inherited from flopy.mf6.mfpackage.MFPackage:\n",
      " |  \n",
      " |  data_list\n",
      " |      List of data in this package.\n",
      " |  \n",
      " |  output\n",
      " |      Method to get output associated with a specific package\n",
      " |      \n",
      " |      Returns\n",
      " |      -------\n",
      " |          MF6Output object\n",
      " |  \n",
      " |  package_type\n",
      " |      String describing type of package\n",
      " |  \n",
      " |  plottable\n",
      " |      If package is plottable\n",
      " |  \n",
      " |  quoted_filename\n",
      " |      Package's file name with quotes if there is a space.\n",
      " |  \n",
      " |  ----------------------------------------------------------------------\n",
      " |  Data descriptors inherited from flopy.mf6.mfpackage.MFPackage:\n",
      " |  \n",
      " |  filename\n",
      " |      Package's file name.\n",
      " |  \n",
      " |  name\n",
      " |      Name of package\n",
      " |  \n",
      " |  parent\n",
      " |      Parent package\n",
      " |  \n",
      " |  ----------------------------------------------------------------------\n",
      " |  Methods inherited from flopy.mf6.mfbase.PackageContainer:\n",
      " |  \n",
      " |  get_package(self, name=None)\n",
      " |      Finds a package by package name, package key, package type, or partial\n",
      " |      package name. returns either a single package, a list of packages,\n",
      " |      or None.\n",
      " |      \n",
      " |      Parameters\n",
      " |      ----------\n",
      " |      name : str\n",
      " |          Name of the package, 'RIV', 'LPF', etc.\n",
      " |      \n",
      " |      Returns\n",
      " |      -------\n",
      " |      pp : Package object\n",
      " |  \n",
      " |  register_package(self, package)\n",
      " |      Base method for registering a package.  Should be overridden.\n",
      " |  \n",
      " |  ----------------------------------------------------------------------\n",
      " |  Static methods inherited from flopy.mf6.mfbase.PackageContainer:\n",
      " |  \n",
      " |  get_module_val(module, item, attrb)\n",
      " |      Static method that returns a python class module value.  For\n",
      " |      internal FloPy use only, not intended for end users.\n",
      " |  \n",
      " |  model_factory(model_type)\n",
      " |      Static method that returns the appropriate model type object based\n",
      " |      on the model_type string. For internal FloPy use only, not intended\n",
      " |      for end users.\n",
      " |      \n",
      " |      Parameters\n",
      " |      ----------\n",
      " |          model_type : str\n",
      " |              Type of model that package is a part of\n",
      " |      \n",
      " |      Returns\n",
      " |      -------\n",
      " |          model : MFModel subclass\n",
      " |  \n",
      " |  package_factory(package_type: str, model_type: str)\n",
      " |      Static method that returns the appropriate package type object based\n",
      " |      on the package_type and model_type strings.  For internal FloPy use\n",
      " |      only, not intended for end users.\n",
      " |      \n",
      " |      Parameters\n",
      " |      ----------\n",
      " |          package_type : str\n",
      " |              Type of package to create\n",
      " |          model_type : str\n",
      " |              Type of model that package is a part of\n",
      " |      \n",
      " |      Returns\n",
      " |      -------\n",
      " |          package : MFPackage subclass\n",
      " |  \n",
      " |  package_list()\n",
      " |      Static method that returns the list of available packages.\n",
      " |      For internal FloPy use only, not intended for end users.\n",
      " |      \n",
      " |      Returns a list of MFPackage subclasses\n",
      " |  \n",
      " |  ----------------------------------------------------------------------\n",
      " |  Readonly properties inherited from flopy.mf6.mfbase.PackageContainer:\n",
      " |  \n",
      " |  package_dict\n",
      " |      Returns a copy of the package name dictionary.\n",
      " |  \n",
      " |  package_key_dict\n",
      " |  \n",
      " |  package_names\n",
      " |      Returns a list of package names.\n",
      " |  \n",
      " |  ----------------------------------------------------------------------\n",
      " |  Data descriptors inherited from flopy.mf6.mfbase.PackageContainer:\n",
      " |  \n",
      " |  __dict__\n",
      " |      dictionary for instance variables (if defined)\n",
      " |  \n",
      " |  __weakref__\n",
      " |      list of weak references to the object (if defined)\n",
      " |  \n",
      " |  ----------------------------------------------------------------------\n",
      " |  Data and other attributes inherited from flopy.mf6.mfbase.PackageContainer:\n",
      " |  \n",
      " |  models_by_type = {'gwf': <class 'flopy.mf6.modflow.mfgwf.ModflowGwf'>,...\n",
      " |  \n",
      " |  modflow_models = [<class 'flopy.mf6.modflow.mfgwf.ModflowGwf'>, <class...\n",
      " |  \n",
      " |  modflow_packages = [<class 'flopy.mf6.modflow.mfnam.ModflowNam'>, <cla...\n",
      " |  \n",
      " |  packages_by_abbr = {'ems': <class 'flopy.mf6.modflow.mfems.ModflowEms'...\n",
      " |  \n",
      " |  ----------------------------------------------------------------------\n",
      " |  Readonly properties inherited from flopy.pakbase.PackageInterface:\n",
      " |  \n",
      " |  has_stress_period_data\n",
      "\n"
     ]
    }
   ],
   "source": [
    "# Note that help can always be found for a package\n",
    "# using either forms of the following syntax\n",
    "help(oc)\n",
    "# help(flopy.mf6.modflow.mfgwfoc.ModflowGwfoc)"
   ]
  },
  {
   "cell_type": "code",
   "execution_count": null,
   "id": "e156a844",
   "metadata": {},
   "outputs": [],
   "source": []
  },
  {
   "cell_type": "markdown",
   "id": "e187654f",
   "metadata": {},
   "source": [
    "### Create the MODFLOW 6 Input Files and Run the Model\n",
    "\n",
    "Once all the flopy objects are created, it is very easy to create all of the input files and run the model."
   ]
  },
  {
   "cell_type": "code",
   "execution_count": 49,
   "id": "c4ed24fa",
   "metadata": {
    "execution": {
     "iopub.execute_input": "2023-09-30T20:44:16.882848Z",
     "iopub.status.busy": "2023-09-30T20:44:16.881567Z",
     "iopub.status.idle": "2023-09-30T20:44:17.463064Z",
     "shell.execute_reply": "2023-09-30T20:44:17.462396Z"
    }
   },
   "outputs": [
    {
     "name": "stdout",
     "output_type": "stream",
     "text": [
      "writing simulation...\n",
      "  writing simulation name file...\n",
      "  writing simulation tdis package...\n",
      "  writing solution package ims...\n",
      "  writing model gwf_well_00...\n",
      "    writing model name file...\n",
      "    writing package dis...\n",
      "    writing package ic...\n",
      "    writing package npf...\n",
      "    writing package sto...\n",
      "    writing package wel...\n",
      "    writing package chd...\n",
      "    writing package oc...\n"
     ]
    }
   ],
   "source": [
    "# Write the datasets\n",
    "sim.write_simulation()"
   ]
  },
  {
   "cell_type": "code",
   "execution_count": 50,
   "id": "ab2d4bb8",
   "metadata": {
    "execution": {
     "iopub.execute_input": "2023-09-30T20:44:17.468111Z",
     "iopub.status.busy": "2023-09-30T20:44:17.466784Z",
     "iopub.status.idle": "2023-09-30T20:44:17.473535Z",
     "shell.execute_reply": "2023-09-30T20:44:17.472894Z"
    }
   },
   "outputs": [
    {
     "name": "stdout",
     "output_type": "stream",
     "text": [
      "['gwf_well_00.cbb', 'gwf_well_00.chd', 'gwf_well_00.dis', 'gwf_well_00.dis.grb', 'gwf_well_00.hds', 'gwf_well_00.ic', 'gwf_well_00.lst', 'gwf_well_00.nam', 'gwf_well_00.npf', 'gwf_well_00.oc', 'gwf_well_00.sto', 'gwf_well_00.wel', 'mfsim.lst', 'mfsim.nam', 'well_00.ims', 'well_00.tdis']\n"
     ]
    }
   ],
   "source": [
    "# Print a list of the files that were created\n",
    "# in workspace\n",
    "print(os.listdir(workspace))"
   ]
  },
  {
   "cell_type": "markdown",
   "id": "4ce7326f",
   "metadata": {},
   "source": [
    "### Run the Simulation\n",
    "\n",
    "We can also run the simulation from the notebook, but only if the MODFLOW 6 executable is available.  The executable can be made available by putting the executable in a folder that is listed in the system path variable.  Another option is to just put a copy of the executable in the simulation folder, though this should generally be avoided.  A final option is to provide a full path to the executable when the simulation is constructed.  This would be done by specifying exe_name with the full path."
   ]
  },
  {
   "cell_type": "code",
   "execution_count": 51,
   "id": "fdd24dbd",
   "metadata": {
    "execution": {
     "iopub.execute_input": "2023-09-30T20:44:17.478432Z",
     "iopub.status.busy": "2023-09-30T20:44:17.477123Z",
     "iopub.status.idle": "2023-09-30T20:44:18.132349Z",
     "shell.execute_reply": "2023-09-30T20:44:18.130977Z"
    }
   },
   "outputs": [
    {
     "name": "stdout",
     "output_type": "stream",
     "text": [
      "                                   MODFLOW 6\n",
      "                U.S. GEOLOGICAL SURVEY MODULAR HYDROLOGIC MODEL\n",
      "                            VERSION 6.4.2 06/28/2023\n",
      "\n",
      "   MODFLOW 6 compiled Jun 28 2023 18:41:13 with Intel(R) Fortran Intel(R) 64\n",
      "   Compiler Classic for applications running on Intel(R) 64, Version 2021.7.0\n",
      "                             Build 20220726_000000\n",
      "\n",
      "This software has been approved for release by the U.S. Geological \n",
      "Survey (USGS). Although the software has been subjected to rigorous \n",
      "review, the USGS reserves the right to update the software as needed \n",
      "pursuant to further analysis and review. No warranty, expressed or \n",
      "implied, is made by the USGS or the U.S. Government as to the \n",
      "functionality of the software and related material nor shall the \n",
      "fact of release constitute any such warranty. Furthermore, the \n",
      "software is released on condition that neither the USGS nor the U.S. \n",
      "Government shall be held liable for any damages resulting from its \n",
      "authorized or unauthorized use. Also refer to the USGS Water \n",
      "Resources Software User Rights Notice for complete use, copyright, \n",
      "and distribution information.\n",
      "\n",
      " \n",
      " Run start date and time (yyyy/mm/dd hh:mm:ss): 2023/10/24 12:11:37\n",
      " \n",
      " Writing simulation list file: mfsim.lst\n",
      " Using Simulation name file: mfsim.nam\n",
      " \n",
      "    Solving:  Stress period:     1    Time step:     1\n",
      "    Solving:  Stress period:     1    Time step:     2\n",
      "    Solving:  Stress period:     1    Time step:     3\n",
      "    Solving:  Stress period:     1    Time step:     4\n",
      "    Solving:  Stress period:     1    Time step:     5\n",
      "    Solving:  Stress period:     1    Time step:     6\n",
      "    Solving:  Stress period:     1    Time step:     7\n",
      "    Solving:  Stress period:     1    Time step:     8\n",
      "    Solving:  Stress period:     1    Time step:     9\n",
      "    Solving:  Stress period:     1    Time step:    10\n",
      "    Solving:  Stress period:     1    Time step:    11\n",
      "    Solving:  Stress period:     1    Time step:    12\n",
      "    Solving:  Stress period:     1    Time step:    13\n",
      "    Solving:  Stress period:     1    Time step:    14\n",
      "    Solving:  Stress period:     1    Time step:    15\n",
      "    Solving:  Stress period:     1    Time step:    16\n",
      "    Solving:  Stress period:     1    Time step:    17\n",
      "    Solving:  Stress period:     1    Time step:    18\n",
      "    Solving:  Stress period:     1    Time step:    19\n",
      " \n",
      " Run end date and time (yyyy/mm/dd hh:mm:ss): 2023/10/24 12:11:37\n",
      " Elapsed run time:  0.133 Seconds\n",
      " \n",
      " Normal termination of simulation.\n"
     ]
    }
   ],
   "source": [
    "# Run the simulation\n",
    "success, buff = sim.run_simulation(silent=True, report=True)\n",
    "if success:\n",
    "    for line in buff:\n",
    "        print(line)\n",
    "else:\n",
    "    raise ValueError(\"Failed to run.\")"
   ]
  },
  {
   "cell_type": "markdown",
   "id": "7a35f40d",
   "metadata": {},
   "source": [
    "### Post-Process Head Results\n",
    "\n",
    "Post-processing MODFLOW 6 results is still a work in progress.  There aren't any Flopy plotting functions built in yet, like they are for other MODFLOW versions.  So we need to plot the results using general Flopy capabilities.  We can also use some of the Flopy ModelMap capabilities for MODFLOW 6, but in order to do so, we need to manually create a SpatialReference object, that is needed for the plotting.  Examples of both approaches are shown below.\n",
    "\n",
    "First, a link to the heads file is created with `HeadFile`. The link can then be accessed with the `get_data` function, by specifying, in this case, the step number and period number for which we want to retrieve data. A three-dimensional array is returned of size `nlay, nrow, ncol`. Matplotlib contouring functions are used to make contours of the layers or a cross-section."
   ]
  },
  {
   "cell_type": "code",
   "execution_count": 52,
   "id": "1d63f1b4",
   "metadata": {
    "execution": {
     "iopub.execute_input": "2023-09-30T20:44:18.137063Z",
     "iopub.status.busy": "2023-09-30T20:44:18.136565Z",
     "iopub.status.idle": "2023-09-30T20:44:18.512355Z",
     "shell.execute_reply": "2023-09-30T20:44:18.511767Z"
    }
   },
   "outputs": [
    {
     "data": {
      "text/plain": [
       "(19, 1, 15, 15)"
      ]
     },
     "execution_count": 52,
     "metadata": {},
     "output_type": "execute_result"
    }
   ],
   "source": [
    "# Read the binary head file and plot the results\n",
    "# We can use the existing Flopy HeadFile class because\n",
    "# the format of the headfile for MODFLOW 6 is the same\n",
    "# as for previous MODFLOW verions\n",
    "fname = os.path.join(workspace, headfile)\n",
    "hds = flopy.utils.binaryfile.HeadFile(fname)\n",
    "h = hds.get_alldata()\n",
    "\n",
    "h.shape\n"
   ]
  },
  {
   "cell_type": "code",
   "execution_count": 53,
   "id": "147f1be0",
   "metadata": {
    "execution": {
     "iopub.execute_input": "2023-09-30T20:44:18.517559Z",
     "iopub.status.busy": "2023-09-30T20:44:18.516240Z",
     "iopub.status.idle": "2023-09-30T20:44:18.870689Z",
     "shell.execute_reply": "2023-09-30T20:44:18.869947Z"
    }
   },
   "outputs": [
    {
     "data": {
      "text/plain": [
       "(0.0, 15.0, 0.0, 15.0)"
      ]
     },
     "execution_count": 53,
     "metadata": {},
     "output_type": "execute_result"
    },
    {
     "data": {
      "image/png": "[encoded data removed]",
      "text/plain": [
       "<Figure size 640x480 with 1 Axes>"
      ]
     },
     "metadata": {},
     "output_type": "display_data"
    }
   ],
   "source": [
    "\n",
    "x = y = np.linspace(0, nrow, ncol)\n",
    "min_hd = round(np.min(h[-1, 0,:, :]),0)\n",
    "c = plt.contour(x, y, h[-1, 0,:, :], np.arange(min_hd, const_head, 0.5))\n",
    "plt.clabel(c, fmt=\"%1.1f\")\n",
    "plt.axis(\"scaled\")"
   ]
  },
  {
   "cell_type": "code",
   "execution_count": 54,
   "id": "1ce09c4c",
   "metadata": {
    "execution": {
     "iopub.execute_input": "2023-09-30T20:44:19.119740Z",
     "iopub.status.busy": "2023-09-30T20:44:19.118522Z",
     "iopub.status.idle": "2023-09-30T20:44:19.507760Z",
     "shell.execute_reply": "2023-09-30T20:44:19.507091Z"
    }
   },
   "outputs": [
    {
     "data": {
      "image/png": "[encoded data removed]",
      "text/plain": [
       "<Figure size 1000x1000 with 1 Axes>"
      ]
     },
     "metadata": {},
     "output_type": "display_data"
    }
   ],
   "source": [
    "# We can also use the Flopy PlotMapView capabilities for MODFLOW 6\n",
    "fig = plt.figure(figsize=(10, 10))\n",
    "ax = fig.add_subplot(1, 1, 1, aspect=\"equal\")\n",
    "modelmap = flopy.plot.PlotMapView(model=gwf, ax=ax)\n",
    "\n",
    "# Then we can use the plot_grid() method to draw the grid\n",
    "# The return value for this function is a matplotlib LineCollection object,\n",
    "# which could be manipulated (or used) later if necessary.\n",
    "quadmesh = modelmap.plot_ibound(ibound=ibd)\n",
    "linecollection = modelmap.plot_grid()\n",
    "contours = modelmap.contour_array(h[-1,0], levels=np.arange(min_hd, const_head, 0.5))"
   ]
  },
  {
   "cell_type": "code",
   "execution_count": 55,
   "id": "687d3f8e",
   "metadata": {
    "execution": {
     "iopub.execute_input": "2023-09-30T20:44:19.511722Z",
     "iopub.status.busy": "2023-09-30T20:44:19.511452Z",
     "iopub.status.idle": "2023-09-30T20:44:19.952263Z",
     "shell.execute_reply": "2023-09-30T20:44:19.951559Z"
    }
   },
   "outputs": [
    {
     "data": {
      "image/png": "[encoded data removed]",
      "text/plain": [
       "<Figure size 1000x1000 with 2 Axes>"
      ]
     },
     "metadata": {},
     "output_type": "display_data"
    }
   ],
   "source": [
    "# We can also use the Flopy PlotMapView capabilities for MODFLOW 6\n",
    "fig = plt.figure(figsize=(10, 10))\n",
    "ax = fig.add_subplot(1, 1, 1, aspect=\"equal\")\n",
    "\n",
    "# Next we create an instance of the ModelMap class\n",
    "modelmap = flopy.plot.PlotMapView(model=gwf, ax=ax)\n",
    "\n",
    "# Then we can use the plot_grid() method to draw the grid\n",
    "# The return value for this function is a matplotlib LineCollection object,\n",
    "# which could be manipulated (or used) later if necessary.\n",
    "quadmesh = modelmap.plot_ibound(ibound=ibd)\n",
    "linecollection = modelmap.plot_grid()\n",
    "pa = modelmap.plot_array(h[-1, 0])\n",
    "cb = plt.colorbar(pa, shrink=0.5)"
   ]
  },
  {
   "cell_type": "markdown",
   "id": "6e893dc0",
   "metadata": {},
   "source": [
    "### Post-Process Flows\n",
    "\n",
    "MODFLOW 6 writes a binary grid file, which contains information about the model grid.  MODFLOW 6 also writes a binary budget file, which contains flow information.  Both of these files can be read using Flopy capabilities.  The MfGrdFile class in Flopy can be used to read the binary grid file.  The CellBudgetFile class in Flopy can be used to read the binary budget file written by MODFLOW 6."
   ]
  },
  {
   "cell_type": "code",
   "execution_count": 56,
   "id": "67b5dd91",
   "metadata": {
    "execution": {
     "iopub.execute_input": "2023-09-30T20:44:19.957462Z",
     "iopub.status.busy": "2023-09-30T20:44:19.956137Z",
     "iopub.status.idle": "2023-09-30T20:44:19.971144Z",
     "shell.execute_reply": "2023-09-30T20:44:19.970468Z"
    }
   },
   "outputs": [
    {
     "data": {
      "text/plain": [
       "{'NCELLS': 225,\n",
       " 'NLAY': 1,\n",
       " 'NROW': 15,\n",
       " 'NCOL': 15,\n",
       " 'NJA': 1065,\n",
       " 'XORIGIN': 0.0,\n",
       " 'YORIGIN': 0.0,\n",
       " 'ANGROT': 0.0,\n",
       " 'DELR': array([1000., 1000., 1000., 1000., 1000., 1000., 1000., 1000., 1000.,\n",
       "        1000., 1000., 1000., 1000., 1000., 1000.]),\n",
       " 'DELC': array([1000., 1000., 1000., 1000., 1000., 1000., 1000., 1000., 1000.,\n",
       "        1000., 1000., 1000., 1000., 1000., 1000.]),\n",
       " 'TOP': array([0., 0., 0., 0., 0., 0., 0., 0., 0., 0., 0., 0., 0., 0., 0., 0., 0.,\n",
       "        0., 0., 0., 0., 0., 0., 0., 0., 0., 0., 0., 0., 0., 0., 0., 0., 0.,\n",
       "        0., 0., 0., 0., 0., 0., 0., 0., 0., 0., 0., 0., 0., 0., 0., 0., 0.,\n",
       "        0., 0., 0., 0., 0., 0., 0., 0., 0., 0., 0., 0., 0., 0., 0., 0., 0.,\n",
       "        0., 0., 0., 0., 0., 0., 0., 0., 0., 0., 0., 0., 0., 0., 0., 0., 0.,\n",
       "        0., 0., 0., 0., 0., 0., 0., 0., 0., 0., 0., 0., 0., 0., 0., 0., 0.,\n",
       "        0., 0., 0., 0., 0., 0., 0., 0., 0., 0., 0., 0., 0., 0., 0., 0., 0.,\n",
       "        0., 0., 0., 0., 0., 0., 0., 0., 0., 0., 0., 0., 0., 0., 0., 0., 0.,\n",
       "        0., 0., 0., 0., 0., 0., 0., 0., 0., 0., 0., 0., 0., 0., 0., 0., 0.,\n",
       "        0., 0., 0., 0., 0., 0., 0., 0., 0., 0., 0., 0., 0., 0., 0., 0., 0.,\n",
       "        0., 0., 0., 0., 0., 0., 0., 0., 0., 0., 0., 0., 0., 0., 0., 0., 0.,\n",
       "        0., 0., 0., 0., 0., 0., 0., 0., 0., 0., 0., 0., 0., 0., 0., 0., 0.,\n",
       "        0., 0., 0., 0., 0., 0., 0., 0., 0., 0., 0., 0., 0., 0., 0., 0., 0.,\n",
       "        0., 0., 0., 0.]),\n",
       " 'BOTM': array([-100., -100., -100., -100., -100., -100., -100., -100., -100.,\n",
       "        -100., -100., -100., -100., -100., -100., -100., -100., -100.,\n",
       "        -100., -100., -100., -100., -100., -100., -100., -100., -100.,\n",
       "        -100., -100., -100., -100., -100., -100., -100., -100., -100.,\n",
       "        -100., -100., -100., -100., -100., -100., -100., -100., -100.,\n",
       "        -100., -100., -100., -100., -100., -100., -100., -100., -100.,\n",
       "        -100., -100., -100., -100., -100., -100., -100., -100., -100.,\n",
       "        -100., -100., -100., -100., -100., -100., -100., -100., -100.,\n",
       "        -100., -100., -100., -100., -100., -100., -100., -100., -100.,\n",
       "        -100., -100., -100., -100., -100., -100., -100., -100., -100.,\n",
       "        -100., -100., -100., -100., -100., -100., -100., -100., -100.,\n",
       "        -100., -100., -100., -100., -100., -100., -100., -100., -100.,\n",
       "        -100., -100., -100., -100., -100., -100., -100., -100., -100.,\n",
       "        -100., -100., -100., -100., -100., -100., -100., -100., -100.,\n",
       "        -100., -100., -100., -100., -100., -100., -100., -100., -100.,\n",
       "        -100., -100., -100., -100., -100., -100., -100., -100., -100.,\n",
       "        -100., -100., -100., -100., -100., -100., -100., -100., -100.,\n",
       "        -100., -100., -100., -100., -100., -100., -100., -100., -100.,\n",
       "        -100., -100., -100., -100., -100., -100., -100., -100., -100.,\n",
       "        -100., -100., -100., -100., -100., -100., -100., -100., -100.,\n",
       "        -100., -100., -100., -100., -100., -100., -100., -100., -100.,\n",
       "        -100., -100., -100., -100., -100., -100., -100., -100., -100.,\n",
       "        -100., -100., -100., -100., -100., -100., -100., -100., -100.,\n",
       "        -100., -100., -100., -100., -100., -100., -100., -100., -100.,\n",
       "        -100., -100., -100., -100., -100., -100., -100., -100., -100.]),\n",
       " 'IA': array([   1,    4,    8,   12,   16,   20,   24,   28,   32,   36,   40,\n",
       "          44,   48,   52,   56,   59,   63,   68,   73,   78,   83,   88,\n",
       "          93,   98,  103,  108,  113,  118,  123,  128,  132,  136,  141,\n",
       "         146,  151,  156,  161,  166,  171,  176,  181,  186,  191,  196,\n",
       "         201,  205,  209,  214,  219,  224,  229,  234,  239,  244,  249,\n",
       "         254,  259,  264,  269,  274,  278,  282,  287,  292,  297,  302,\n",
       "         307,  312,  317,  322,  327,  332,  337,  342,  347,  351,  355,\n",
       "         360,  365,  370,  375,  380,  385,  390,  395,  400,  405,  410,\n",
       "         415,  420,  424,  428,  433,  438,  443,  448,  453,  458,  463,\n",
       "         468,  473,  478,  483,  488,  493,  497,  501,  506,  511,  516,\n",
       "         521,  526,  531,  536,  541,  546,  551,  556,  561,  566,  570,\n",
       "         574,  579,  584,  589,  594,  599,  604,  609,  614,  619,  624,\n",
       "         629,  634,  639,  643,  647,  652,  657,  662,  667,  672,  677,\n",
       "         682,  687,  692,  697,  702,  707,  712,  716,  720,  725,  730,\n",
       "         735,  740,  745,  750,  755,  760,  765,  770,  775,  780,  785,\n",
       "         789,  793,  798,  803,  808,  813,  818,  823,  828,  833,  838,\n",
       "         843,  848,  853,  858,  862,  866,  871,  876,  881,  886,  891,\n",
       "         896,  901,  906,  911,  916,  921,  926,  931,  935,  939,  944,\n",
       "         949,  954,  959,  964,  969,  974,  979,  984,  989,  994,  999,\n",
       "        1004, 1008, 1011, 1015, 1019, 1023, 1027, 1031, 1035, 1039, 1043,\n",
       "        1047, 1051, 1055, 1059, 1063, 1066]),\n",
       " 'JA': array([  1,   2,  16, ..., 225, 210, 224]),\n",
       " 'IDOMAIN': array([1, 1, 1, 1, 1, 1, 1, 1, 1, 1, 1, 1, 1, 1, 1, 1, 1, 1, 1, 1, 1, 1,\n",
       "        1, 1, 1, 1, 1, 1, 1, 1, 1, 1, 1, 1, 1, 1, 1, 1, 1, 1, 1, 1, 1, 1,\n",
       "        1, 1, 1, 1, 1, 1, 1, 1, 1, 1, 1, 1, 1, 1, 1, 1, 1, 1, 1, 1, 1, 1,\n",
       "        1, 1, 1, 1, 1, 1, 1, 1, 1, 1, 1, 1, 1, 1, 1, 1, 1, 1, 1, 1, 1, 1,\n",
       "        1, 1, 1, 1, 1, 1, 1, 1, 1, 1, 1, 1, 1, 1, 1, 1, 1, 1, 1, 1, 1, 1,\n",
       "        1, 1, 1, 1, 1, 1, 1, 1, 1, 1, 1, 1, 1, 1, 1, 1, 1, 1, 1, 1, 1, 1,\n",
       "        1, 1, 1, 1, 1, 1, 1, 1, 1, 1, 1, 1, 1, 1, 1, 1, 1, 1, 1, 1, 1, 1,\n",
       "        1, 1, 1, 1, 1, 1, 1, 1, 1, 1, 1, 1, 1, 1, 1, 1, 1, 1, 1, 1, 1, 1,\n",
       "        1, 1, 1, 1, 1, 1, 1, 1, 1, 1, 1, 1, 1, 1, 1, 1, 1, 1, 1, 1, 1, 1,\n",
       "        1, 1, 1, 1, 1, 1, 1, 1, 1, 1, 1, 1, 1, 1, 1, 1, 1, 1, 1, 1, 1, 1,\n",
       "        1, 1, 1, 1, 1]),\n",
       " 'ICELLTYPE': array([1, 1, 1, 1, 1, 1, 1, 1, 1, 1, 1, 1, 1, 1, 1, 1, 1, 1, 1, 1, 1, 1,\n",
       "        1, 1, 1, 1, 1, 1, 1, 1, 1, 1, 1, 1, 1, 1, 1, 1, 1, 1, 1, 1, 1, 1,\n",
       "        1, 1, 1, 1, 1, 1, 1, 1, 1, 1, 1, 1, 1, 1, 1, 1, 1, 1, 1, 1, 1, 1,\n",
       "        1, 1, 1, 1, 1, 1, 1, 1, 1, 1, 1, 1, 1, 1, 1, 1, 1, 1, 1, 1, 1, 1,\n",
       "        1, 1, 1, 1, 1, 1, 1, 1, 1, 1, 1, 1, 1, 1, 1, 1, 1, 1, 1, 1, 1, 1,\n",
       "        1, 1, 1, 1, 1, 1, 1, 1, 1, 1, 1, 1, 1, 1, 1, 1, 1, 1, 1, 1, 1, 1,\n",
       "        1, 1, 1, 1, 1, 1, 1, 1, 1, 1, 1, 1, 1, 1, 1, 1, 1, 1, 1, 1, 1, 1,\n",
       "        1, 1, 1, 1, 1, 1, 1, 1, 1, 1, 1, 1, 1, 1, 1, 1, 1, 1, 1, 1, 1, 1,\n",
       "        1, 1, 1, 1, 1, 1, 1, 1, 1, 1, 1, 1, 1, 1, 1, 1, 1, 1, 1, 1, 1, 1,\n",
       "        1, 1, 1, 1, 1, 1, 1, 1, 1, 1, 1, 1, 1, 1, 1, 1, 1, 1, 1, 1, 1, 1,\n",
       "        1, 1, 1, 1, 1])}"
      ]
     },
     "execution_count": 56,
     "metadata": {},
     "output_type": "execute_result"
    }
   ],
   "source": [
    "# read the binary grid file\n",
    "fname = os.path.join(workspace, \"{}.dis.grb\".format(gwf_name))\n",
    "bgf = flopy.mf6.utils.MfGrdFile(fname)\n",
    "\n",
    "# data read from the binary grid file is stored in a dictionary\n",
    "bgf._datadict"
   ]
  },
  {
   "cell_type": "code",
   "execution_count": 57,
   "id": "dc68be09",
   "metadata": {
    "execution": {
     "iopub.execute_input": "2023-09-30T20:44:19.976272Z",
     "iopub.status.busy": "2023-09-30T20:44:19.974967Z",
     "iopub.status.idle": "2023-09-30T20:44:19.987682Z",
     "shell.execute_reply": "2023-09-30T20:44:19.987045Z"
    }
   },
   "outputs": [
    {
     "name": "stdout",
     "output_type": "stream",
     "text": [
      "(1, 1, b'          STO-SS', 15, 15, -1, 1, 0.82361623, 0.82361623, 0.82361623, b'', b'', b'', b'')\n",
      "(1, 1, b'    FLOW-JA-FACE', 1065, 1, -1, 1, 0.82361623, 0.82361623, 0.82361623, b'', b'', b'', b'')\n",
      "(1, 1, b'             WEL', 15, 15, -1, 6, 0.82361623, 0.82361623, 0.82361623, b'GWF_WELL_00     ', b'GWF_WELL_00     ', b'GWF_WELL_00     ', b'WEL             ')\n",
      "(1, 1, b'             CHD', 15, 15, -1, 6, 0.82361623, 0.82361623, 0.82361623, b'GWF_WELL_00     ', b'GWF_WELL_00     ', b'GWF_WELL_00     ', b'CHD             ')\n",
      "(2, 1, b'          STO-SS', 15, 15, -1, 1, 1.23542435, 2.05904058, 2.05904058, b'', b'', b'', b'')\n",
      "(2, 1, b'    FLOW-JA-FACE', 1065, 1, -1, 1, 1.23542435, 2.05904058, 2.05904058, b'', b'', b'', b'')\n",
      "(2, 1, b'             WEL', 15, 15, -1, 6, 1.23542435, 2.05904058, 2.05904058, b'GWF_WELL_00     ', b'GWF_WELL_00     ', b'GWF_WELL_00     ', b'WEL             ')\n",
      "(2, 1, b'             CHD', 15, 15, -1, 6, 1.23542435, 2.05904058, 2.05904058, b'GWF_WELL_00     ', b'GWF_WELL_00     ', b'GWF_WELL_00     ', b'CHD             ')\n",
      "(3, 1, b'          STO-SS', 15, 15, -1, 1, 1.85313653, 3.91217711, 3.91217711, b'', b'', b'', b'')\n",
      "(3, 1, b'    FLOW-JA-FACE', 1065, 1, -1, 1, 1.85313653, 3.91217711, 3.91217711, b'', b'', b'', b'')\n",
      "(3, 1, b'             WEL', 15, 15, -1, 6, 1.85313653, 3.91217711, 3.91217711, b'GWF_WELL_00     ', b'GWF_WELL_00     ', b'GWF_WELL_00     ', b'WEL             ')\n",
      "(3, 1, b'             CHD', 15, 15, -1, 6, 1.85313653, 3.91217711, 3.91217711, b'GWF_WELL_00     ', b'GWF_WELL_00     ', b'GWF_WELL_00     ', b'CHD             ')\n",
      "(4, 1, b'          STO-SS', 15, 15, -1, 1, 2.77970479, 6.6918819, 6.6918819, b'', b'', b'', b'')\n",
      "(4, 1, b'    FLOW-JA-FACE', 1065, 1, -1, 1, 2.77970479, 6.6918819, 6.6918819, b'', b'', b'', b'')\n",
      "(4, 1, b'             WEL', 15, 15, -1, 6, 2.77970479, 6.6918819, 6.6918819, b'GWF_WELL_00     ', b'GWF_WELL_00     ', b'GWF_WELL_00     ', b'WEL             ')\n",
      "(4, 1, b'             CHD', 15, 15, -1, 6, 2.77970479, 6.6918819, 6.6918819, b'GWF_WELL_00     ', b'GWF_WELL_00     ', b'GWF_WELL_00     ', b'CHD             ')\n",
      "(5, 1, b'          STO-SS', 15, 15, -1, 1, 4.16955718, 10.86143908, 10.86143908, b'', b'', b'', b'')\n",
      "(5, 1, b'    FLOW-JA-FACE', 1065, 1, -1, 1, 4.16955718, 10.86143908, 10.86143908, b'', b'', b'', b'')\n",
      "(5, 1, b'             WEL', 15, 15, -1, 6, 4.16955718, 10.86143908, 10.86143908, b'GWF_WELL_00     ', b'GWF_WELL_00     ', b'GWF_WELL_00     ', b'WEL             ')\n",
      "(5, 1, b'             CHD', 15, 15, -1, 6, 4.16955718, 10.86143908, 10.86143908, b'GWF_WELL_00     ', b'GWF_WELL_00     ', b'GWF_WELL_00     ', b'CHD             ')\n",
      "(6, 1, b'          STO-SS', 15, 15, -1, 1, 6.25433578, 17.11577486, 17.11577486, b'', b'', b'', b'')\n",
      "(6, 1, b'    FLOW-JA-FACE', 1065, 1, -1, 1, 6.25433578, 17.11577486, 17.11577486, b'', b'', b'', b'')\n",
      "(6, 1, b'             WEL', 15, 15, -1, 6, 6.25433578, 17.11577486, 17.11577486, b'GWF_WELL_00     ', b'GWF_WELL_00     ', b'GWF_WELL_00     ', b'WEL             ')\n",
      "(6, 1, b'             CHD', 15, 15, -1, 6, 6.25433578, 17.11577486, 17.11577486, b'GWF_WELL_00     ', b'GWF_WELL_00     ', b'GWF_WELL_00     ', b'CHD             ')\n",
      "(7, 1, b'          STO-SS', 15, 15, -1, 1, 9.38150366, 26.49727852, 26.49727852, b'', b'', b'', b'')\n",
      "(7, 1, b'    FLOW-JA-FACE', 1065, 1, -1, 1, 9.38150366, 26.49727852, 26.49727852, b'', b'', b'', b'')\n",
      "(7, 1, b'             WEL', 15, 15, -1, 6, 9.38150366, 26.49727852, 26.49727852, b'GWF_WELL_00     ', b'GWF_WELL_00     ', b'GWF_WELL_00     ', b'WEL             ')\n",
      "(7, 1, b'             CHD', 15, 15, -1, 6, 9.38150366, 26.49727852, 26.49727852, b'GWF_WELL_00     ', b'GWF_WELL_00     ', b'GWF_WELL_00     ', b'CHD             ')\n",
      "(8, 1, b'          STO-SS', 15, 15, -1, 1, 14.07225549, 40.56953402, 40.56953402, b'', b'', b'', b'')\n",
      "(8, 1, b'    FLOW-JA-FACE', 1065, 1, -1, 1, 14.07225549, 40.56953402, 40.56953402, b'', b'', b'', b'')\n",
      "(8, 1, b'             WEL', 15, 15, -1, 6, 14.07225549, 40.56953402, 40.56953402, b'GWF_WELL_00     ', b'GWF_WELL_00     ', b'GWF_WELL_00     ', b'WEL             ')\n",
      "(8, 1, b'             CHD', 15, 15, -1, 6, 14.07225549, 40.56953402, 40.56953402, b'GWF_WELL_00     ', b'GWF_WELL_00     ', b'GWF_WELL_00     ', b'CHD             ')\n",
      "(9, 1, b'          STO-SS', 15, 15, -1, 1, 21.10838324, 61.67791726, 61.67791726, b'', b'', b'', b'')\n",
      "(9, 1, b'    FLOW-JA-FACE', 1065, 1, -1, 1, 21.10838324, 61.67791726, 61.67791726, b'', b'', b'', b'')\n",
      "(9, 1, b'             WEL', 15, 15, -1, 6, 21.10838324, 61.67791726, 61.67791726, b'GWF_WELL_00     ', b'GWF_WELL_00     ', b'GWF_WELL_00     ', b'WEL             ')\n",
      "(9, 1, b'             CHD', 15, 15, -1, 6, 21.10838324, 61.67791726, 61.67791726, b'GWF_WELL_00     ', b'GWF_WELL_00     ', b'GWF_WELL_00     ', b'CHD             ')\n",
      "(10, 1, b'          STO-SS', 15, 15, -1, 1, 31.66257486, 93.34049212, 93.34049212, b'', b'', b'', b'')\n",
      "(10, 1, b'    FLOW-JA-FACE', 1065, 1, -1, 1, 31.66257486, 93.34049212, 93.34049212, b'', b'', b'', b'')\n",
      "(10, 1, b'             WEL', 15, 15, -1, 6, 31.66257486, 93.34049212, 93.34049212, b'GWF_WELL_00     ', b'GWF_WELL_00     ', b'GWF_WELL_00     ', b'WEL             ')\n",
      "(10, 1, b'             CHD', 15, 15, -1, 6, 31.66257486, 93.34049212, 93.34049212, b'GWF_WELL_00     ', b'GWF_WELL_00     ', b'GWF_WELL_00     ', b'CHD             ')\n",
      "(11, 1, b'          STO-SS', 15, 15, -1, 1, 47.49386229, 140.83435441, 140.83435441, b'', b'', b'', b'')\n",
      "(11, 1, b'    FLOW-JA-FACE', 1065, 1, -1, 1, 47.49386229, 140.83435441, 140.83435441, b'', b'', b'', b'')\n",
      "(11, 1, b'             WEL', 15, 15, -1, 6, 47.49386229, 140.83435441, 140.83435441, b'GWF_WELL_00     ', b'GWF_WELL_00     ', b'GWF_WELL_00     ', b'WEL             ')\n",
      "(11, 1, b'             CHD', 15, 15, -1, 6, 47.49386229, 140.83435441, 140.83435441, b'GWF_WELL_00     ', b'GWF_WELL_00     ', b'GWF_WELL_00     ', b'CHD             ')\n",
      "(12, 1, b'          STO-SS', 15, 15, -1, 1, 71.24079344, 212.07514785, 212.07514785, b'', b'', b'', b'')\n",
      "(12, 1, b'    FLOW-JA-FACE', 1065, 1, -1, 1, 71.24079344, 212.07514785, 212.07514785, b'', b'', b'', b'')\n",
      "(12, 1, b'             WEL', 15, 15, -1, 6, 71.24079344, 212.07514785, 212.07514785, b'GWF_WELL_00     ', b'GWF_WELL_00     ', b'GWF_WELL_00     ', b'WEL             ')\n",
      "(12, 1, b'             CHD', 15, 15, -1, 6, 71.24079344, 212.07514785, 212.07514785, b'GWF_WELL_00     ', b'GWF_WELL_00     ', b'GWF_WELL_00     ', b'CHD             ')\n",
      "(13, 1, b'          STO-SS', 15, 15, -1, 1, 106.86119016, 318.93633801, 318.93633801, b'', b'', b'', b'')\n",
      "(13, 1, b'    FLOW-JA-FACE', 1065, 1, -1, 1, 106.86119016, 318.93633801, 318.93633801, b'', b'', b'', b'')\n",
      "(13, 1, b'             WEL', 15, 15, -1, 6, 106.86119016, 318.93633801, 318.93633801, b'GWF_WELL_00     ', b'GWF_WELL_00     ', b'GWF_WELL_00     ', b'WEL             ')\n",
      "(13, 1, b'             CHD', 15, 15, -1, 6, 106.86119016, 318.93633801, 318.93633801, b'GWF_WELL_00     ', b'GWF_WELL_00     ', b'GWF_WELL_00     ', b'CHD             ')\n",
      "(14, 1, b'          STO-SS', 15, 15, -1, 1, 160.29178524, 479.22812325, 479.22812325, b'', b'', b'', b'')\n",
      "(14, 1, b'    FLOW-JA-FACE', 1065, 1, -1, 1, 160.29178524, 479.22812325, 479.22812325, b'', b'', b'', b'')\n",
      "(14, 1, b'             WEL', 15, 15, -1, 6, 160.29178524, 479.22812325, 479.22812325, b'GWF_WELL_00     ', b'GWF_WELL_00     ', b'GWF_WELL_00     ', b'WEL             ')\n",
      "(14, 1, b'             CHD', 15, 15, -1, 6, 160.29178524, 479.22812325, 479.22812325, b'GWF_WELL_00     ', b'GWF_WELL_00     ', b'GWF_WELL_00     ', b'CHD             ')\n",
      "(15, 1, b'          STO-SS', 15, 15, -1, 1, 240.43767786, 719.66580111, 719.66580111, b'', b'', b'', b'')\n",
      "(15, 1, b'    FLOW-JA-FACE', 1065, 1, -1, 1, 240.43767786, 719.66580111, 719.66580111, b'', b'', b'', b'')\n",
      "(15, 1, b'             WEL', 15, 15, -1, 6, 240.43767786, 719.66580111, 719.66580111, b'GWF_WELL_00     ', b'GWF_WELL_00     ', b'GWF_WELL_00     ', b'WEL             ')\n",
      "(15, 1, b'             CHD', 15, 15, -1, 6, 240.43767786, 719.66580111, 719.66580111, b'GWF_WELL_00     ', b'GWF_WELL_00     ', b'GWF_WELL_00     ', b'CHD             ')\n",
      "(16, 1, b'          STO-SS', 15, 15, -1, 1, 360.65651679, 1080.32231789, 1080.32231789, b'', b'', b'', b'')\n",
      "(16, 1, b'    FLOW-JA-FACE', 1065, 1, -1, 1, 360.65651679, 1080.32231789, 1080.32231789, b'', b'', b'', b'')\n",
      "(16, 1, b'             WEL', 15, 15, -1, 6, 360.65651679, 1080.32231789, 1080.32231789, b'GWF_WELL_00     ', b'GWF_WELL_00     ', b'GWF_WELL_00     ', b'WEL             ')\n",
      "(16, 1, b'             CHD', 15, 15, -1, 6, 360.65651679, 1080.32231789, 1080.32231789, b'GWF_WELL_00     ', b'GWF_WELL_00     ', b'GWF_WELL_00     ', b'CHD             ')\n",
      "(17, 1, b'          STO-SS', 15, 15, -1, 1, 540.98477518, 1621.30709307, 1621.30709307, b'', b'', b'', b'')\n",
      "(17, 1, b'    FLOW-JA-FACE', 1065, 1, -1, 1, 540.98477518, 1621.30709307, 1621.30709307, b'', b'', b'', b'')\n",
      "(17, 1, b'             WEL', 15, 15, -1, 6, 540.98477518, 1621.30709307, 1621.30709307, b'GWF_WELL_00     ', b'GWF_WELL_00     ', b'GWF_WELL_00     ', b'WEL             ')\n",
      "(17, 1, b'             CHD', 15, 15, -1, 6, 540.98477518, 1621.30709307, 1621.30709307, b'GWF_WELL_00     ', b'GWF_WELL_00     ', b'GWF_WELL_00     ', b'CHD             ')\n",
      "(18, 1, b'          STO-SS', 15, 15, -1, 1, 811.47716277, 2432.78425584, 2432.78425584, b'', b'', b'', b'')\n",
      "(18, 1, b'    FLOW-JA-FACE', 1065, 1, -1, 1, 811.47716277, 2432.78425584, 2432.78425584, b'', b'', b'', b'')\n",
      "(18, 1, b'             WEL', 15, 15, -1, 6, 811.47716277, 2432.78425584, 2432.78425584, b'GWF_WELL_00     ', b'GWF_WELL_00     ', b'GWF_WELL_00     ', b'WEL             ')\n",
      "(18, 1, b'             CHD', 15, 15, -1, 6, 811.47716277, 2432.78425584, 2432.78425584, b'GWF_WELL_00     ', b'GWF_WELL_00     ', b'GWF_WELL_00     ', b'CHD             ')\n",
      "(19, 1, b'          STO-SS', 15, 15, -1, 1, 1217.21574416, 3650., 3650., b'', b'', b'', b'')\n",
      "(19, 1, b'    FLOW-JA-FACE', 1065, 1, -1, 1, 1217.21574416, 3650., 3650., b'', b'', b'', b'')\n",
      "(19, 1, b'             WEL', 15, 15, -1, 6, 1217.21574416, 3650., 3650., b'GWF_WELL_00     ', b'GWF_WELL_00     ', b'GWF_WELL_00     ', b'WEL             ')\n",
      "(19, 1, b'             CHD', 15, 15, -1, 6, 1217.21574416, 3650., 3650., b'GWF_WELL_00     ', b'GWF_WELL_00     ', b'GWF_WELL_00     ', b'CHD             ')\n"
     ]
    }
   ],
   "source": [
    "# read the cell budget file\n",
    "fname = os.path.join(workspace, \"{}.cbb\".format(gwf_name))\n",
    "cbb = flopy.utils.CellBudgetFile(fname, precision=\"double\")\n",
    "cbb.list_records()\n",
    "\n",
    "flowja = cbb.get_data(text=\"FLOW-JA-FACE\")[0][0, 0, :]\n",
    "chdflow = cbb.get_data(text=\"CHD\")[0]"
   ]
  },
  {
   "cell_type": "code",
   "execution_count": 58,
   "id": "7be5b48b",
   "metadata": {
    "execution": {
     "iopub.execute_input": "2023-09-30T20:44:19.992349Z",
     "iopub.status.busy": "2023-09-30T20:44:19.991063Z",
     "iopub.status.idle": "2023-09-30T20:44:20.000031Z",
     "shell.execute_reply": "2023-09-30T20:44:19.999410Z"
    }
   },
   "outputs": [
    {
     "name": "stdout",
     "output_type": "stream",
     "text": [
      "Printing flows for cell 112\n",
      "Cell 112 flow with cell 97 is 86.00576735858816\n",
      "Cell 112 flow with cell 111 is 86.00576717103566\n",
      "Cell 112 flow with cell 113 is 86.00576719283438\n",
      "Cell 112 flow with cell 127 is 86.00576715501273\n"
     ]
    }
   ],
   "source": [
    "# By having the ia and ja arrays and the flow-ja-face we can look at\n",
    "# the flows for any cell and process them in the follow manner.\n",
    "k = 0\n",
    "i = 7\n",
    "j = 7\n",
    "celln = k * nrow * ncol + i * nrow + j\n",
    "ia, ja = bgf.ia, bgf.ja\n",
    "\n",
    "print(\"Printing flows for cell {}\".format(celln))\n",
    "for ipos in range(ia[celln] + 1, ia[celln + 1]):\n",
    "    cellm = ja[ipos]\n",
    "    print(\"Cell {} flow with cell {} is {}\".format(celln, cellm, flowja[ipos]))\n"
   ]
  }
 ],
 "metadata": {
  "jupytext": {
   "notebook_metadata_filter": "metadata"
  },
  "kernelspec": {
   "display_name": "Python 3 (ipykernel)",
   "language": "python",
   "name": "python3"
  },
  "language_info": {
   "codemirror_mode": {
    "name": "ipython",
    "version": 3
   },
   "file_extension": ".py",
   "mimetype": "text/x-python",
   "name": "python",
   "nbconvert_exporter": "python",
   "pygments_lexer": "ipython3",
   "version": "3.10.13"
  },
  "metadata": {
   "section": "mf6"
  }
 },
 "nbformat": 4,
 "nbformat_minor": 5
}
