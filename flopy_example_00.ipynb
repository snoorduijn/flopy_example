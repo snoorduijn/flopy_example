{
  "cells": [
    {
      "cell_type": "code",
      "execution_count": 1,
      "metadata": {
        "colab": {
          "base_uri": "https://localhost:8080/"
        },
        "id": "GuVcdO8so7Rr",
        "outputId": "6a73d249-7b7d-4422-a14a-3e58b5c77d7d"
      },
      "outputs": [],
      "source": [
        "import flopy"
      ]
    },
    {
      "cell_type": "markdown",
      "metadata": {
        "id": "BRCPNyMnpM3g"
      },
      "source": []
    }
  ],
  "metadata": {
    "colab": {
      "authorship_tag": "ABX9TyOKoW4mKV6UU5UHIBtou9mg",
      "include_colab_link": true,
      "provenance": []
    },
    "kernelspec": {
      "display_name": "Python 3",
      "name": "python3"
    },
    "language_info": {
      "codemirror_mode": {
        "name": "ipython",
        "version": 3
      },
      "file_extension": ".py",
      "mimetype": "text/x-python",
      "name": "python",
      "nbconvert_exporter": "python",
      "pygments_lexer": "ipython3",
      "version": "3.10.13"
    }
  },
  "nbformat": 4,
  "nbformat_minor": 0
}
