{
 "cells": [
  {
   "cell_type": "markdown",
   "id": "490130a6",
   "metadata": {},
   "source": [
    "## Creating a Simple MODFLOW 6 Model with Flopy\n",
    "\n",
    "The purpose of this notebook is to demonstrate the Flopy capabilities for building a simple MODFLOW 6 model from scratch, running the model, and viewing the results.  This notebook will demonstrate the capabilities using a simple well example.  "
   ]
  },
  {
   "cell_type": "markdown",
   "id": "a17ca35d",
   "metadata": {},
   "source": [
    "![mf6](./images/mf6_flowchart.png)"
   ]
  },
  {
   "cell_type": "markdown",
   "id": "8b2310c2",
   "metadata": {},
   "source": [
    "### Setup the Notebook Environment"
   ]
  },
  {
   "cell_type": "code",
   "execution_count": 32,
   "id": "095ecb90",
   "metadata": {
    "execution": {
     "iopub.execute_input": "2023-09-30T20:44:15.472064Z",
     "iopub.status.busy": "2023-09-30T20:44:15.471536Z",
     "iopub.status.idle": "2023-09-30T20:44:15.485021Z",
     "shell.execute_reply": "2023-09-30T20:44:15.484368Z"
    }
   },
   "outputs": [],
   "source": [
    "import os"
   ]
  },
  {
   "cell_type": "code",
   "execution_count": null,
   "id": "288a2453",
   "metadata": {
    "execution": {
     "iopub.execute_input": "2023-09-30T20:44:15.490185Z",
     "iopub.status.busy": "2023-09-30T20:44:15.488591Z",
     "iopub.status.idle": "2023-09-30T20:44:16.162577Z",
     "shell.execute_reply": "2023-09-30T20:44:16.161874Z"
    }
   },
   "outputs": [],
   "source": [
    "import sys\n",
    "from tempfile import TemporaryDirectory\n",
    "\n",
    "import matplotlib as mpl\n",
    "import matplotlib.pyplot as plt\n",
    "import numpy as np\n",
    "\n",
    "import flopy\n",
    "\n",
    "print(sys.version)\n",
    "print(\"numpy version: {}\".format(np.__version__))\n",
    "print(\"matplotlib version: {}\".format(mpl.__version__))\n",
    "print(\"flopy version: {}\".format(flopy.__version__))"
   ]
  },
  {
   "cell_type": "code",
   "execution_count": 34,
   "id": "34af737f",
   "metadata": {
    "execution": {
     "iopub.execute_input": "2023-09-30T20:44:16.167411Z",
     "iopub.status.busy": "2023-09-30T20:44:16.165966Z",
     "iopub.status.idle": "2023-09-30T20:44:16.171791Z",
     "shell.execute_reply": "2023-09-30T20:44:16.171154Z"
    }
   },
   "outputs": [],
   "source": [
    "# For this example, we will set up a temporary workspace.\n",
    "# Model input files and output files will reside here.\n",
    "temp_dir = TemporaryDirectory()\n",
    "workspace = os.path.join(temp_dir.name, \"mf6Well\")"
   ]
  },
  {
   "cell_type": "code",
   "execution_count": null,
   "id": "45007821",
   "metadata": {},
   "outputs": [],
   "source": [
    "# Alternatively - create a folder to save the output files\n",
    "workspace = os.path.join(\".\", \"mf6Well\")\n",
    "try: \n",
    "    os.mkdir(workspace) \n",
    "    print(\"Directory '%s' created\" %workspace) \n",
    "except OSError as error: \n",
    "    print(error)    "
   ]
  },
  {
   "cell_type": "markdown",
   "id": "75aea65f",
   "metadata": {},
   "source": [
    "### Create the Flopy Model Objects\n",
    "\n",
    "We are creating a square model with a specified head equal to `initial_head` along all boundaries. The head at the cells in first row in the top layer is fixed to `const_head`. First, set the name of the model and the parameters of the model: the number of layers `nlay`, the number of rows and columns `nrow` and `ncol`, lengths of the sides of the model `L`, aquifer thickness `H`, hydraulic conductivity `hk`"
   ]
  },
  {
   "cell_type": "markdown",
   "id": "a21e7c15",
   "metadata": {},
   "source": [
    "![conceptualModel](./images/conceptualModel.png)"
   ]
  },
  {
   "cell_type": "code",
   "execution_count": 36,
   "id": "62bc6e91",
   "metadata": {
    "execution": {
     "iopub.execute_input": "2023-09-30T20:44:16.176811Z",
     "iopub.status.busy": "2023-09-30T20:44:16.175492Z",
     "iopub.status.idle": "2023-09-30T20:44:16.181062Z",
     "shell.execute_reply": "2023-09-30T20:44:16.180417Z"
    }
   },
   "outputs": [],
   "source": [
    "model_name = \"well_00\"\n",
    "initial_head = 0. # meters\n",
    "const_head = 0. # meters\n",
    "nlay, nrow, ncol = 1, 15, 15 \n",
    "L = 15000 # meters\n",
    "hk = 1.0 # m/d"
   ]
  },
  {
   "cell_type": "markdown",
   "id": "e2884fe0",
   "metadata": {},
   "source": [
    "One big difference between MODFLOW 6 and previous MODFLOW versions is that MODFLOW 6 is based on the concept of a simulation.  A simulation consists of the following:\n",
    "\n",
    "* Temporal discretization (TDIS)\n",
    "* One or more models (GWF is the only model supported at present)\n",
    "* Zero or more exchanges (instructions for how models are coupled)\n",
    "* Solutions\n",
    "\n",
    "For this simple lake example, the simulation consists of the temporal discretization (TDIS) package (TDIS), a groundwater flow (GWF) model, and an iterative model solution (IMS), which controls how the GWF model is solved.\n",
    "\n"
   ]
  },
  {
   "cell_type": "markdown",
   "id": "c56d4ec8",
   "metadata": {},
   "source": [
    "![mf6_simulation](./images/mf6_flowchart_p1.png)"
   ]
  },
  {
   "cell_type": "code",
   "execution_count": 37,
   "id": "dccdd455",
   "metadata": {
    "execution": {
     "iopub.execute_input": "2023-09-30T20:44:16.185981Z",
     "iopub.status.busy": "2023-09-30T20:44:16.184668Z",
     "iopub.status.idle": "2023-09-30T20:44:16.317100Z",
     "shell.execute_reply": "2023-09-30T20:44:16.310241Z"
    }
   },
   "outputs": [],
   "source": [
    "# Create the Flopy simulation object\n",
    "sim = flopy.mf6.MFSimulation(\n",
    "    sim_name=model_name, exe_name=\"mf6\", version=\"mf6\", sim_ws=workspace\n",
    ")\n"
   ]
  },
  {
   "cell_type": "code",
   "execution_count": 38,
   "id": "585babaf",
   "metadata": {},
   "outputs": [],
   "source": [
    "# Create the Flopy temporal discretization object\n",
    "ntimesteps = 19\n",
    "tdis = flopy.mf6.modflow.mftdis.ModflowTdis(\n",
    "    sim, pname=\"tdis\", \n",
    "    time_units=\"DAYS\", \n",
    "    nper=1, \n",
    "    perioddata=[(3650, ntimesteps, 1.5)],\n",
    ")\n"
   ]
  },
  {
   "cell_type": "code",
   "execution_count": 39,
   "id": "8cab3813",
   "metadata": {},
   "outputs": [],
   "source": [
    "# Create the Flopy iterative model solver (ims) Package object\n",
    "ims = flopy.mf6.ModflowIms(\n",
    "    sim, \n",
    "    pname=\"ims\", \n",
    "    complexity=\"SIMPLE\"\n",
    "    )"
   ]
  },
  {
   "cell_type": "markdown",
   "id": "6551fdc3",
   "metadata": {},
   "source": [
    "Now that the overall simulation is set up, we can focus on building the groundwater flow model.  The groundwater flow model will be built by adding packages to it that describe the model characteristics.\n",
    "\n",
    "!['mf6_gwf'](./images/mf6_flowchart_p2.png)\n",
    "\n",
    "Define the discretization of the model. All layers are given equal thickness. The `bot` array is build from `H` and the `Nlay` values to indicate top and bottom of each layer, and `delrow` and `delcol` are computed from model size `L` and number of cells `N`. Once these are all computed, the Discretization file is built."
   ]
  },
  {
   "cell_type": "code",
   "execution_count": 40,
   "id": "21eeb3b0",
   "metadata": {},
   "outputs": [],
   "source": [
    "# Create the Flopy groundwater flow (gwf) model object\n",
    "gwf_name = \"gwf_well_00\"\n",
    "model_nam_file = \"{}.nam\".format(gwf_name)\n",
    "gwf = flopy.mf6.ModflowGwf(\n",
    "    sim, \n",
    "    modelname=\"gwf_well_00\", \n",
    "    model_nam_file=model_nam_file\n",
    "    )"
   ]
  },
  {
   "cell_type": "code",
   "execution_count": 41,
   "id": "83d4e791",
   "metadata": {
    "execution": {
     "iopub.execute_input": "2023-09-30T20:44:16.331370Z",
     "iopub.status.busy": "2023-09-30T20:44:16.331076Z",
     "iopub.status.idle": "2023-09-30T20:44:16.344627Z",
     "shell.execute_reply": "2023-09-30T20:44:16.343934Z"
    }
   },
   "outputs": [],
   "source": [
    "# Create the discretization package\n",
    "top, bot = 0, -100\n",
    "delrow = delcol = 1000.\n",
    "dis = flopy.mf6.modflow.mfgwfdis.ModflowGwfdis(\n",
    "    gwf,\n",
    "    pname=\"dis\",\n",
    "    length_units='METERS',\n",
    "    nlay=nlay,\n",
    "    nrow=nrow,\n",
    "    ncol=ncol,\n",
    "    delr=delrow,\n",
    "    delc=delcol,\n",
    "    top=top,\n",
    "    botm=bot,\n",
    ")"
   ]
  },
  {
   "cell_type": "code",
   "execution_count": 42,
   "id": "cb4f7cd2",
   "metadata": {
    "execution": {
     "iopub.execute_input": "2023-09-30T20:44:16.349684Z",
     "iopub.status.busy": "2023-09-30T20:44:16.348362Z",
     "iopub.status.idle": "2023-09-30T20:44:16.364520Z",
     "shell.execute_reply": "2023-09-30T20:44:16.363821Z"
    }
   },
   "outputs": [],
   "source": [
    "# Create the initial conditions package\n",
    "start = initial_head\n",
    "ic = flopy.mf6.ModflowGwfic(\n",
    "    gwf, \n",
    "    pname=\"ic\", \n",
    "    strt=start\n",
    "    )"
   ]
  },
  {
   "cell_type": "code",
   "execution_count": 43,
   "id": "14418bd7",
   "metadata": {
    "execution": {
     "iopub.execute_input": "2023-09-30T20:44:16.369906Z",
     "iopub.status.busy": "2023-09-30T20:44:16.368385Z",
     "iopub.status.idle": "2023-09-30T20:44:16.385517Z",
     "shell.execute_reply": "2023-09-30T20:44:16.384824Z"
    }
   },
   "outputs": [],
   "source": [
    "# Create the node property flow package\n",
    "npf = flopy.mf6.modflow.mfgwfnpf.ModflowGwfnpf(\n",
    "    gwf, \n",
    "    pname=\"npf\", \n",
    "    icelltype=1, \n",
    "    k=hk, \n",
    "    save_flows=True\n",
    ")"
   ]
  },
  {
   "cell_type": "code",
   "execution_count": 44,
   "id": "02b42660",
   "metadata": {},
   "outputs": [],
   "source": [
    "# Create the storage package\n",
    "sto = flopy.mf6.ModflowGwfsto(\n",
    "    gwf,\n",
    "    pname=\"sto\",\n",
    "    save_flows=True,\n",
    "    iconvert=[0],\n",
    "    ss=2.0e-6,\n",
    "    sy=0.2,\n",
    "    transient={0: True},\n",
    ")"
   ]
  },
  {
   "cell_type": "code",
   "execution_count": 45,
   "id": "5a016fa0",
   "metadata": {},
   "outputs": [],
   "source": [
    "# Create the well package\n",
    "tdis.nper\n",
    "stress_period_data = dict()\n",
    "stress_period_data[0] = [0, 7, 7,-600.,'well_00']\n",
    "#stp[0] = [[],[],[]]\n",
    "#stp[1] = [[],[],[],[]]\n",
    "\n",
    "\n",
    "wel = flopy.mf6.ModflowGwfwel(\n",
    "    gwf,\n",
    "    pname=\"wel\",\n",
    "    print_input=True,\n",
    "    print_flows=True,\n",
    "    #auxiliary=[(\"var1\")],\n",
    "    maxbound=len(stress_period_data),\n",
    "    stress_period_data=stress_period_data,\n",
    "    boundnames=True,\n",
    "    save_flows=True,\n",
    ")\n",
    "\n",
    "ra_wel = wel.stress_period_data.get_data(key=0)"
   ]
  },
  {
   "cell_type": "code",
   "execution_count": 46,
   "id": "65858d2f",
   "metadata": {
    "execution": {
     "iopub.execute_input": "2023-09-30T20:44:16.390488Z",
     "iopub.status.busy": "2023-09-30T20:44:16.389199Z",
     "iopub.status.idle": "2023-09-30T20:44:16.519363Z",
     "shell.execute_reply": "2023-09-30T20:44:16.518579Z"
    }
   },
   "outputs": [],
   "source": [
    "# Create the constant head package.\n",
    "# List information is created a bit differently for\n",
    "# MODFLOW 6 than for other MODFLOW versions.  The\n",
    "# cellid (layer, row, column, for a regular grid)\n",
    "# must be entered as a tuple as the first entry.\n",
    "# Remember that these must be zero-based indices!\n",
    "chd_rec = []\n",
    "for col in range(0, ncol):\n",
    "    chd_rec.append([0, 0, col, const_head])\n",
    "\n",
    "chd = flopy.mf6.ModflowGwfchd(\n",
    "    gwf,\n",
    "    pname=\"chd\",\n",
    "    maxbound=len(chd_rec),\n",
    "    stress_period_data={0: chd_rec},\n",
    "    save_flows=True,\n",
    ")"
   ]
  },
  {
   "cell_type": "code",
   "execution_count": null,
   "id": "33c122f3",
   "metadata": {
    "execution": {
     "iopub.execute_input": "2023-09-30T20:44:16.525102Z",
     "iopub.status.busy": "2023-09-30T20:44:16.523712Z",
     "iopub.status.idle": "2023-09-30T20:44:16.535670Z",
     "shell.execute_reply": "2023-09-30T20:44:16.535018Z"
    }
   },
   "outputs": [],
   "source": [
    "# The chd package stored the constant heads in a structured\n",
    "# array, also called a recarray.  We can get a pointer to the\n",
    "# recarray for the first stress period (iper = 0) as follows.\n",
    "iper = 0\n",
    "ra = chd.stress_period_data.get_data(key=0)\n",
    "ra"
   ]
  },
  {
   "cell_type": "code",
   "execution_count": null,
   "id": "9bfcb08b",
   "metadata": {
    "execution": {
     "iopub.execute_input": "2023-09-30T20:44:16.540955Z",
     "iopub.status.busy": "2023-09-30T20:44:16.539610Z",
     "iopub.status.idle": "2023-09-30T20:44:16.816335Z",
     "shell.execute_reply": "2023-09-30T20:44:16.815633Z"
    }
   },
   "outputs": [],
   "source": [
    "# We can make a quick plot to show where our constant\n",
    "# heads are located by creating an integer array\n",
    "# that starts with ones everywhere, but is assigned\n",
    "# a -1 where chds are located\n",
    "ibd = np.ones((nlay, nrow, ncol), dtype=int)\n",
    "for k, i, j in ra[\"cellid\"]:\n",
    "    ibd[k, i, j] = -1\n",
    "\n",
    "for k, i, j in ra_wel[\"cellid\"]:\n",
    "    ibd[k, i, j] = 0\n",
    "\n",
    "plt.imshow(ibd[0, :, :], interpolation=\"none\")\n",
    "plt.title(\"Layer {}: Constant Head Cells\".format(1))"
   ]
  },
  {
   "cell_type": "code",
   "execution_count": 49,
   "id": "8eead045",
   "metadata": {
    "execution": {
     "iopub.execute_input": "2023-09-30T20:44:16.821551Z",
     "iopub.status.busy": "2023-09-30T20:44:16.820216Z",
     "iopub.status.idle": "2023-09-30T20:44:16.861324Z",
     "shell.execute_reply": "2023-09-30T20:44:16.860587Z"
    }
   },
   "outputs": [],
   "source": [
    "# Create the output control package\n",
    "headfile = \"{}.hds\".format(gwf_name)\n",
    "head_filerecord = [headfile]\n",
    "budgetfile = \"{}.cbb\".format(gwf_name)\n",
    "budget_filerecord = [budgetfile]\n",
    "# Note mf6 no longer supports drawdown output \n",
    "saverecord = [(\"HEAD\", \"ALL\"), (\"BUDGET\", \"ALL\")]\n",
    "printrecord = [(\"HEAD\", \"LAST\")]\n",
    "oc = flopy.mf6.modflow.mfgwfoc.ModflowGwfoc(\n",
    "    gwf,\n",
    "    pname=\"oc\",\n",
    "    saverecord=saverecord,\n",
    "    head_filerecord=head_filerecord,\n",
    "    budget_filerecord=budget_filerecord,\n",
    "    printrecord=printrecord,\n",
    ")"
   ]
  },
  {
   "cell_type": "code",
   "execution_count": null,
   "id": "395ece04",
   "metadata": {
    "execution": {
     "iopub.execute_input": "2023-09-30T20:44:16.866801Z",
     "iopub.status.busy": "2023-09-30T20:44:16.865434Z",
     "iopub.status.idle": "2023-09-30T20:44:16.877962Z",
     "shell.execute_reply": "2023-09-30T20:44:16.877310Z"
    }
   },
   "outputs": [],
   "source": [
    "# Note that help can always be found for a package\n",
    "# using either forms of the following syntax\n",
    "help(oc)\n",
    "# help(flopy.mf6.modflow.mfgwfoc.ModflowGwfoc)"
   ]
  },
  {
   "cell_type": "code",
   "execution_count": null,
   "id": "e156a844",
   "metadata": {},
   "outputs": [],
   "source": []
  },
  {
   "cell_type": "markdown",
   "id": "e187654f",
   "metadata": {},
   "source": [
    "### Create the MODFLOW 6 Input Files and Run the Model\n",
    "\n",
    "Once all the flopy objects are created, it is very easy to create all of the input files and run the model."
   ]
  },
  {
   "cell_type": "code",
   "execution_count": null,
   "id": "c4ed24fa",
   "metadata": {
    "execution": {
     "iopub.execute_input": "2023-09-30T20:44:16.882848Z",
     "iopub.status.busy": "2023-09-30T20:44:16.881567Z",
     "iopub.status.idle": "2023-09-30T20:44:17.463064Z",
     "shell.execute_reply": "2023-09-30T20:44:17.462396Z"
    }
   },
   "outputs": [],
   "source": [
    "# Write the datasets\n",
    "sim.write_simulation()"
   ]
  },
  {
   "cell_type": "code",
   "execution_count": null,
   "id": "ab2d4bb8",
   "metadata": {
    "execution": {
     "iopub.execute_input": "2023-09-30T20:44:17.468111Z",
     "iopub.status.busy": "2023-09-30T20:44:17.466784Z",
     "iopub.status.idle": "2023-09-30T20:44:17.473535Z",
     "shell.execute_reply": "2023-09-30T20:44:17.472894Z"
    }
   },
   "outputs": [],
   "source": [
    "# Print a list of the files that were created\n",
    "# in workspace\n",
    "print(os.listdir(workspace))"
   ]
  },
  {
   "cell_type": "markdown",
   "id": "4ce7326f",
   "metadata": {},
   "source": [
    "### Run the Simulation\n",
    "\n",
    "We can also run the simulation from the notebook, but only if the MODFLOW 6 executable is available.  The executable can be made available by putting the executable in a folder that is listed in the system path variable.  Another option is to just put a copy of the executable in the simulation folder, though this should generally be avoided.  A final option is to provide a full path to the executable when the simulation is constructed.  This would be done by specifying exe_name with the full path."
   ]
  },
  {
   "cell_type": "code",
   "execution_count": null,
   "id": "fdd24dbd",
   "metadata": {
    "execution": {
     "iopub.execute_input": "2023-09-30T20:44:17.478432Z",
     "iopub.status.busy": "2023-09-30T20:44:17.477123Z",
     "iopub.status.idle": "2023-09-30T20:44:18.132349Z",
     "shell.execute_reply": "2023-09-30T20:44:18.130977Z"
    }
   },
   "outputs": [],
   "source": [
    "# Run the simulation\n",
    "success, buff = sim.run_simulation(silent=True, report=True)\n",
    "if success:\n",
    "    for line in buff:\n",
    "        print(line)\n",
    "else:\n",
    "    raise ValueError(\"Failed to run.\")"
   ]
  }
 ],
 "metadata": {
  "jupytext": {
   "notebook_metadata_filter": "metadata"
  },
  "kernelspec": {
   "display_name": "Python 3 (ipykernel)",
   "language": "python",
   "name": "python3"
  },
  "language_info": {
   "codemirror_mode": {
    "name": "ipython",
    "version": 3
   },
   "file_extension": ".py",
   "mimetype": "text/x-python",
   "name": "python",
   "nbconvert_exporter": "python",
   "pygments_lexer": "ipython3",
   "version": "3.10.13"
  },
  "metadata": {
   "section": "mf6"
  }
 },
 "nbformat": 4,
 "nbformat_minor": 5
}
